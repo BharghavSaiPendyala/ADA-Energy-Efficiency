{
  "cells": [
    {
      "cell_type": "code",
      "execution_count": 4,
      "id": "d1ae43f1",
      "metadata": {
        "id": "d1ae43f1"
      },
      "outputs": [],
      "source": [
        "import numpy as np\n",
        "import pandas as pd\n",
        "import matplotlib.pyplot as plt\n",
        "import seaborn as sns\n",
        "%matplotlib inline\n",
        "from pandas.plotting import scatter_matrix\n",
        "import warnings\n",
        "warnings.filterwarnings(\"ignore\")"
      ]
    },
    {
      "cell_type": "code",
      "execution_count": 5,
      "id": "d326808c",
      "metadata": {
        "id": "d326808c"
      },
      "outputs": [],
      "source": [
        "from sklearn.model_selection import train_test_split\n",
        "from sklearn.metrics import accuracy_score\n",
        "from sklearn.model_selection import KFold\n",
        "from sklearn.model_selection import cross_val_score\n",
        "from sklearn.model_selection import cross_val_predict\n",
        "from sklearn.metrics import confusion_matrix\n",
        "from sklearn.feature_selection import RFE\n",
        "from sklearn.ensemble import ExtraTreesRegressor"
      ]
    },
    {
      "cell_type": "code",
      "execution_count": 6,
      "id": "bbf7d800",
      "metadata": {
        "colab": {
          "base_uri": "https://localhost:8080/",
          "height": 423
        },
        "id": "bbf7d800",
        "outputId": "4e7e5996-f7fe-4e7a-bbb4-5e8a16c7cb52"
      },
      "outputs": [
        {
          "output_type": "execute_result",
          "data": {
            "text/plain": [
              "       X1     X2     X3      X4   X5  X6   X7  X8     Y1     Y2\n",
              "0    0.98  514.5  294.0  110.25  7.0   2  0.0   0  15.55  21.33\n",
              "1    0.98  514.5  294.0  110.25  7.0   3  0.0   0  15.55  21.33\n",
              "2    0.98  514.5  294.0  110.25  7.0   4  0.0   0  15.55  21.33\n",
              "3    0.98  514.5  294.0  110.25  7.0   5  0.0   0  15.55  21.33\n",
              "4    0.90  563.5  318.5  122.50  7.0   2  0.0   0  20.84  28.28\n",
              "..    ...    ...    ...     ...  ...  ..  ...  ..    ...    ...\n",
              "763  0.64  784.0  343.0  220.50  3.5   5  0.4   5  17.88  21.40\n",
              "764  0.62  808.5  367.5  220.50  3.5   2  0.4   5  16.54  16.88\n",
              "765  0.62  808.5  367.5  220.50  3.5   3  0.4   5  16.44  17.11\n",
              "766  0.62  808.5  367.5  220.50  3.5   4  0.4   5  16.48  16.61\n",
              "767  0.62  808.5  367.5  220.50  3.5   5  0.4   5  16.64  16.03\n",
              "\n",
              "[768 rows x 10 columns]"
            ],
            "text/html": [
              "\n",
              "  <div id=\"df-0697a20e-ebeb-4bb4-a531-3d81d864c932\">\n",
              "    <div class=\"colab-df-container\">\n",
              "      <div>\n",
              "<style scoped>\n",
              "    .dataframe tbody tr th:only-of-type {\n",
              "        vertical-align: middle;\n",
              "    }\n",
              "\n",
              "    .dataframe tbody tr th {\n",
              "        vertical-align: top;\n",
              "    }\n",
              "\n",
              "    .dataframe thead th {\n",
              "        text-align: right;\n",
              "    }\n",
              "</style>\n",
              "<table border=\"1\" class=\"dataframe\">\n",
              "  <thead>\n",
              "    <tr style=\"text-align: right;\">\n",
              "      <th></th>\n",
              "      <th>X1</th>\n",
              "      <th>X2</th>\n",
              "      <th>X3</th>\n",
              "      <th>X4</th>\n",
              "      <th>X5</th>\n",
              "      <th>X6</th>\n",
              "      <th>X7</th>\n",
              "      <th>X8</th>\n",
              "      <th>Y1</th>\n",
              "      <th>Y2</th>\n",
              "    </tr>\n",
              "  </thead>\n",
              "  <tbody>\n",
              "    <tr>\n",
              "      <th>0</th>\n",
              "      <td>0.98</td>\n",
              "      <td>514.5</td>\n",
              "      <td>294.0</td>\n",
              "      <td>110.25</td>\n",
              "      <td>7.0</td>\n",
              "      <td>2</td>\n",
              "      <td>0.0</td>\n",
              "      <td>0</td>\n",
              "      <td>15.55</td>\n",
              "      <td>21.33</td>\n",
              "    </tr>\n",
              "    <tr>\n",
              "      <th>1</th>\n",
              "      <td>0.98</td>\n",
              "      <td>514.5</td>\n",
              "      <td>294.0</td>\n",
              "      <td>110.25</td>\n",
              "      <td>7.0</td>\n",
              "      <td>3</td>\n",
              "      <td>0.0</td>\n",
              "      <td>0</td>\n",
              "      <td>15.55</td>\n",
              "      <td>21.33</td>\n",
              "    </tr>\n",
              "    <tr>\n",
              "      <th>2</th>\n",
              "      <td>0.98</td>\n",
              "      <td>514.5</td>\n",
              "      <td>294.0</td>\n",
              "      <td>110.25</td>\n",
              "      <td>7.0</td>\n",
              "      <td>4</td>\n",
              "      <td>0.0</td>\n",
              "      <td>0</td>\n",
              "      <td>15.55</td>\n",
              "      <td>21.33</td>\n",
              "    </tr>\n",
              "    <tr>\n",
              "      <th>3</th>\n",
              "      <td>0.98</td>\n",
              "      <td>514.5</td>\n",
              "      <td>294.0</td>\n",
              "      <td>110.25</td>\n",
              "      <td>7.0</td>\n",
              "      <td>5</td>\n",
              "      <td>0.0</td>\n",
              "      <td>0</td>\n",
              "      <td>15.55</td>\n",
              "      <td>21.33</td>\n",
              "    </tr>\n",
              "    <tr>\n",
              "      <th>4</th>\n",
              "      <td>0.90</td>\n",
              "      <td>563.5</td>\n",
              "      <td>318.5</td>\n",
              "      <td>122.50</td>\n",
              "      <td>7.0</td>\n",
              "      <td>2</td>\n",
              "      <td>0.0</td>\n",
              "      <td>0</td>\n",
              "      <td>20.84</td>\n",
              "      <td>28.28</td>\n",
              "    </tr>\n",
              "    <tr>\n",
              "      <th>...</th>\n",
              "      <td>...</td>\n",
              "      <td>...</td>\n",
              "      <td>...</td>\n",
              "      <td>...</td>\n",
              "      <td>...</td>\n",
              "      <td>...</td>\n",
              "      <td>...</td>\n",
              "      <td>...</td>\n",
              "      <td>...</td>\n",
              "      <td>...</td>\n",
              "    </tr>\n",
              "    <tr>\n",
              "      <th>763</th>\n",
              "      <td>0.64</td>\n",
              "      <td>784.0</td>\n",
              "      <td>343.0</td>\n",
              "      <td>220.50</td>\n",
              "      <td>3.5</td>\n",
              "      <td>5</td>\n",
              "      <td>0.4</td>\n",
              "      <td>5</td>\n",
              "      <td>17.88</td>\n",
              "      <td>21.40</td>\n",
              "    </tr>\n",
              "    <tr>\n",
              "      <th>764</th>\n",
              "      <td>0.62</td>\n",
              "      <td>808.5</td>\n",
              "      <td>367.5</td>\n",
              "      <td>220.50</td>\n",
              "      <td>3.5</td>\n",
              "      <td>2</td>\n",
              "      <td>0.4</td>\n",
              "      <td>5</td>\n",
              "      <td>16.54</td>\n",
              "      <td>16.88</td>\n",
              "    </tr>\n",
              "    <tr>\n",
              "      <th>765</th>\n",
              "      <td>0.62</td>\n",
              "      <td>808.5</td>\n",
              "      <td>367.5</td>\n",
              "      <td>220.50</td>\n",
              "      <td>3.5</td>\n",
              "      <td>3</td>\n",
              "      <td>0.4</td>\n",
              "      <td>5</td>\n",
              "      <td>16.44</td>\n",
              "      <td>17.11</td>\n",
              "    </tr>\n",
              "    <tr>\n",
              "      <th>766</th>\n",
              "      <td>0.62</td>\n",
              "      <td>808.5</td>\n",
              "      <td>367.5</td>\n",
              "      <td>220.50</td>\n",
              "      <td>3.5</td>\n",
              "      <td>4</td>\n",
              "      <td>0.4</td>\n",
              "      <td>5</td>\n",
              "      <td>16.48</td>\n",
              "      <td>16.61</td>\n",
              "    </tr>\n",
              "    <tr>\n",
              "      <th>767</th>\n",
              "      <td>0.62</td>\n",
              "      <td>808.5</td>\n",
              "      <td>367.5</td>\n",
              "      <td>220.50</td>\n",
              "      <td>3.5</td>\n",
              "      <td>5</td>\n",
              "      <td>0.4</td>\n",
              "      <td>5</td>\n",
              "      <td>16.64</td>\n",
              "      <td>16.03</td>\n",
              "    </tr>\n",
              "  </tbody>\n",
              "</table>\n",
              "<p>768 rows × 10 columns</p>\n",
              "</div>\n",
              "      <button class=\"colab-df-convert\" onclick=\"convertToInteractive('df-0697a20e-ebeb-4bb4-a531-3d81d864c932')\"\n",
              "              title=\"Convert this dataframe to an interactive table.\"\n",
              "              style=\"display:none;\">\n",
              "        \n",
              "  <svg xmlns=\"http://www.w3.org/2000/svg\" height=\"24px\"viewBox=\"0 0 24 24\"\n",
              "       width=\"24px\">\n",
              "    <path d=\"M0 0h24v24H0V0z\" fill=\"none\"/>\n",
              "    <path d=\"M18.56 5.44l.94 2.06.94-2.06 2.06-.94-2.06-.94-.94-2.06-.94 2.06-2.06.94zm-11 1L8.5 8.5l.94-2.06 2.06-.94-2.06-.94L8.5 2.5l-.94 2.06-2.06.94zm10 10l.94 2.06.94-2.06 2.06-.94-2.06-.94-.94-2.06-.94 2.06-2.06.94z\"/><path d=\"M17.41 7.96l-1.37-1.37c-.4-.4-.92-.59-1.43-.59-.52 0-1.04.2-1.43.59L10.3 9.45l-7.72 7.72c-.78.78-.78 2.05 0 2.83L4 21.41c.39.39.9.59 1.41.59.51 0 1.02-.2 1.41-.59l7.78-7.78 2.81-2.81c.8-.78.8-2.07 0-2.86zM5.41 20L4 18.59l7.72-7.72 1.47 1.35L5.41 20z\"/>\n",
              "  </svg>\n",
              "      </button>\n",
              "      \n",
              "  <style>\n",
              "    .colab-df-container {\n",
              "      display:flex;\n",
              "      flex-wrap:wrap;\n",
              "      gap: 12px;\n",
              "    }\n",
              "\n",
              "    .colab-df-convert {\n",
              "      background-color: #E8F0FE;\n",
              "      border: none;\n",
              "      border-radius: 50%;\n",
              "      cursor: pointer;\n",
              "      display: none;\n",
              "      fill: #1967D2;\n",
              "      height: 32px;\n",
              "      padding: 0 0 0 0;\n",
              "      width: 32px;\n",
              "    }\n",
              "\n",
              "    .colab-df-convert:hover {\n",
              "      background-color: #E2EBFA;\n",
              "      box-shadow: 0px 1px 2px rgba(60, 64, 67, 0.3), 0px 1px 3px 1px rgba(60, 64, 67, 0.15);\n",
              "      fill: #174EA6;\n",
              "    }\n",
              "\n",
              "    [theme=dark] .colab-df-convert {\n",
              "      background-color: #3B4455;\n",
              "      fill: #D2E3FC;\n",
              "    }\n",
              "\n",
              "    [theme=dark] .colab-df-convert:hover {\n",
              "      background-color: #434B5C;\n",
              "      box-shadow: 0px 1px 3px 1px rgba(0, 0, 0, 0.15);\n",
              "      filter: drop-shadow(0px 1px 2px rgba(0, 0, 0, 0.3));\n",
              "      fill: #FFFFFF;\n",
              "    }\n",
              "  </style>\n",
              "\n",
              "      <script>\n",
              "        const buttonEl =\n",
              "          document.querySelector('#df-0697a20e-ebeb-4bb4-a531-3d81d864c932 button.colab-df-convert');\n",
              "        buttonEl.style.display =\n",
              "          google.colab.kernel.accessAllowed ? 'block' : 'none';\n",
              "\n",
              "        async function convertToInteractive(key) {\n",
              "          const element = document.querySelector('#df-0697a20e-ebeb-4bb4-a531-3d81d864c932');\n",
              "          const dataTable =\n",
              "            await google.colab.kernel.invokeFunction('convertToInteractive',\n",
              "                                                     [key], {});\n",
              "          if (!dataTable) return;\n",
              "\n",
              "          const docLinkHtml = 'Like what you see? Visit the ' +\n",
              "            '<a target=\"_blank\" href=https://colab.research.google.com/notebooks/data_table.ipynb>data table notebook</a>'\n",
              "            + ' to learn more about interactive tables.';\n",
              "          element.innerHTML = '';\n",
              "          dataTable['output_type'] = 'display_data';\n",
              "          await google.colab.output.renderOutput(dataTable, element);\n",
              "          const docLink = document.createElement('div');\n",
              "          docLink.innerHTML = docLinkHtml;\n",
              "          element.appendChild(docLink);\n",
              "        }\n",
              "      </script>\n",
              "    </div>\n",
              "  </div>\n",
              "  "
            ]
          },
          "metadata": {},
          "execution_count": 6
        }
      ],
      "source": [
        "data= pd.read_excel(\"ENB2012_data.xlsx\")\n",
        "data"
      ]
    },
    {
      "cell_type": "code",
      "execution_count": 7,
      "id": "fdf6afd3",
      "metadata": {
        "colab": {
          "base_uri": "https://localhost:8080/"
        },
        "id": "fdf6afd3",
        "outputId": "753e8559-210a-4c86-a3f1-eb6e9754b5ab"
      },
      "outputs": [
        {
          "output_type": "stream",
          "name": "stdout",
          "text": [
            "<class 'pandas.core.frame.DataFrame'>\n",
            "RangeIndex: 768 entries, 0 to 767\n",
            "Data columns (total 10 columns):\n",
            " #   Column  Non-Null Count  Dtype  \n",
            "---  ------  --------------  -----  \n",
            " 0   X1      768 non-null    float64\n",
            " 1   X2      768 non-null    float64\n",
            " 2   X3      768 non-null    float64\n",
            " 3   X4      768 non-null    float64\n",
            " 4   X5      768 non-null    float64\n",
            " 5   X6      768 non-null    int64  \n",
            " 6   X7      768 non-null    float64\n",
            " 7   X8      768 non-null    int64  \n",
            " 8   Y1      768 non-null    float64\n",
            " 9   Y2      768 non-null    float64\n",
            "dtypes: float64(8), int64(2)\n",
            "memory usage: 60.1 KB\n"
          ]
        }
      ],
      "source": [
        "data.info()"
      ]
    },
    {
      "cell_type": "code",
      "execution_count": 8,
      "id": "ea781d16",
      "metadata": {
        "colab": {
          "base_uri": "https://localhost:8080/",
          "height": 300
        },
        "id": "ea781d16",
        "outputId": "ddeb0413-b709-48bb-a58a-6b3d34d7d4d7"
      },
      "outputs": [
        {
          "output_type": "execute_result",
          "data": {
            "text/plain": [
              "               X1          X2          X3          X4         X5          X6  \\\n",
              "count  768.000000  768.000000  768.000000  768.000000  768.00000  768.000000   \n",
              "mean     0.764167  671.708333  318.500000  176.604167    5.25000    3.500000   \n",
              "std      0.105777   88.086116   43.626481   45.165950    1.75114    1.118763   \n",
              "min      0.620000  514.500000  245.000000  110.250000    3.50000    2.000000   \n",
              "25%      0.682500  606.375000  294.000000  140.875000    3.50000    2.750000   \n",
              "50%      0.750000  673.750000  318.500000  183.750000    5.25000    3.500000   \n",
              "75%      0.830000  741.125000  343.000000  220.500000    7.00000    4.250000   \n",
              "max      0.980000  808.500000  416.500000  220.500000    7.00000    5.000000   \n",
              "\n",
              "               X7         X8          Y1          Y2  \n",
              "count  768.000000  768.00000  768.000000  768.000000  \n",
              "mean     0.234375    2.81250   22.307195   24.587760  \n",
              "std      0.133221    1.55096   10.090204    9.513306  \n",
              "min      0.000000    0.00000    6.010000   10.900000  \n",
              "25%      0.100000    1.75000   12.992500   15.620000  \n",
              "50%      0.250000    3.00000   18.950000   22.080000  \n",
              "75%      0.400000    4.00000   31.667500   33.132500  \n",
              "max      0.400000    5.00000   43.100000   48.030000  "
            ],
            "text/html": [
              "\n",
              "  <div id=\"df-675545c0-8f46-4460-9bbc-53c88800911c\">\n",
              "    <div class=\"colab-df-container\">\n",
              "      <div>\n",
              "<style scoped>\n",
              "    .dataframe tbody tr th:only-of-type {\n",
              "        vertical-align: middle;\n",
              "    }\n",
              "\n",
              "    .dataframe tbody tr th {\n",
              "        vertical-align: top;\n",
              "    }\n",
              "\n",
              "    .dataframe thead th {\n",
              "        text-align: right;\n",
              "    }\n",
              "</style>\n",
              "<table border=\"1\" class=\"dataframe\">\n",
              "  <thead>\n",
              "    <tr style=\"text-align: right;\">\n",
              "      <th></th>\n",
              "      <th>X1</th>\n",
              "      <th>X2</th>\n",
              "      <th>X3</th>\n",
              "      <th>X4</th>\n",
              "      <th>X5</th>\n",
              "      <th>X6</th>\n",
              "      <th>X7</th>\n",
              "      <th>X8</th>\n",
              "      <th>Y1</th>\n",
              "      <th>Y2</th>\n",
              "    </tr>\n",
              "  </thead>\n",
              "  <tbody>\n",
              "    <tr>\n",
              "      <th>count</th>\n",
              "      <td>768.000000</td>\n",
              "      <td>768.000000</td>\n",
              "      <td>768.000000</td>\n",
              "      <td>768.000000</td>\n",
              "      <td>768.00000</td>\n",
              "      <td>768.000000</td>\n",
              "      <td>768.000000</td>\n",
              "      <td>768.00000</td>\n",
              "      <td>768.000000</td>\n",
              "      <td>768.000000</td>\n",
              "    </tr>\n",
              "    <tr>\n",
              "      <th>mean</th>\n",
              "      <td>0.764167</td>\n",
              "      <td>671.708333</td>\n",
              "      <td>318.500000</td>\n",
              "      <td>176.604167</td>\n",
              "      <td>5.25000</td>\n",
              "      <td>3.500000</td>\n",
              "      <td>0.234375</td>\n",
              "      <td>2.81250</td>\n",
              "      <td>22.307195</td>\n",
              "      <td>24.587760</td>\n",
              "    </tr>\n",
              "    <tr>\n",
              "      <th>std</th>\n",
              "      <td>0.105777</td>\n",
              "      <td>88.086116</td>\n",
              "      <td>43.626481</td>\n",
              "      <td>45.165950</td>\n",
              "      <td>1.75114</td>\n",
              "      <td>1.118763</td>\n",
              "      <td>0.133221</td>\n",
              "      <td>1.55096</td>\n",
              "      <td>10.090204</td>\n",
              "      <td>9.513306</td>\n",
              "    </tr>\n",
              "    <tr>\n",
              "      <th>min</th>\n",
              "      <td>0.620000</td>\n",
              "      <td>514.500000</td>\n",
              "      <td>245.000000</td>\n",
              "      <td>110.250000</td>\n",
              "      <td>3.50000</td>\n",
              "      <td>2.000000</td>\n",
              "      <td>0.000000</td>\n",
              "      <td>0.00000</td>\n",
              "      <td>6.010000</td>\n",
              "      <td>10.900000</td>\n",
              "    </tr>\n",
              "    <tr>\n",
              "      <th>25%</th>\n",
              "      <td>0.682500</td>\n",
              "      <td>606.375000</td>\n",
              "      <td>294.000000</td>\n",
              "      <td>140.875000</td>\n",
              "      <td>3.50000</td>\n",
              "      <td>2.750000</td>\n",
              "      <td>0.100000</td>\n",
              "      <td>1.75000</td>\n",
              "      <td>12.992500</td>\n",
              "      <td>15.620000</td>\n",
              "    </tr>\n",
              "    <tr>\n",
              "      <th>50%</th>\n",
              "      <td>0.750000</td>\n",
              "      <td>673.750000</td>\n",
              "      <td>318.500000</td>\n",
              "      <td>183.750000</td>\n",
              "      <td>5.25000</td>\n",
              "      <td>3.500000</td>\n",
              "      <td>0.250000</td>\n",
              "      <td>3.00000</td>\n",
              "      <td>18.950000</td>\n",
              "      <td>22.080000</td>\n",
              "    </tr>\n",
              "    <tr>\n",
              "      <th>75%</th>\n",
              "      <td>0.830000</td>\n",
              "      <td>741.125000</td>\n",
              "      <td>343.000000</td>\n",
              "      <td>220.500000</td>\n",
              "      <td>7.00000</td>\n",
              "      <td>4.250000</td>\n",
              "      <td>0.400000</td>\n",
              "      <td>4.00000</td>\n",
              "      <td>31.667500</td>\n",
              "      <td>33.132500</td>\n",
              "    </tr>\n",
              "    <tr>\n",
              "      <th>max</th>\n",
              "      <td>0.980000</td>\n",
              "      <td>808.500000</td>\n",
              "      <td>416.500000</td>\n",
              "      <td>220.500000</td>\n",
              "      <td>7.00000</td>\n",
              "      <td>5.000000</td>\n",
              "      <td>0.400000</td>\n",
              "      <td>5.00000</td>\n",
              "      <td>43.100000</td>\n",
              "      <td>48.030000</td>\n",
              "    </tr>\n",
              "  </tbody>\n",
              "</table>\n",
              "</div>\n",
              "      <button class=\"colab-df-convert\" onclick=\"convertToInteractive('df-675545c0-8f46-4460-9bbc-53c88800911c')\"\n",
              "              title=\"Convert this dataframe to an interactive table.\"\n",
              "              style=\"display:none;\">\n",
              "        \n",
              "  <svg xmlns=\"http://www.w3.org/2000/svg\" height=\"24px\"viewBox=\"0 0 24 24\"\n",
              "       width=\"24px\">\n",
              "    <path d=\"M0 0h24v24H0V0z\" fill=\"none\"/>\n",
              "    <path d=\"M18.56 5.44l.94 2.06.94-2.06 2.06-.94-2.06-.94-.94-2.06-.94 2.06-2.06.94zm-11 1L8.5 8.5l.94-2.06 2.06-.94-2.06-.94L8.5 2.5l-.94 2.06-2.06.94zm10 10l.94 2.06.94-2.06 2.06-.94-2.06-.94-.94-2.06-.94 2.06-2.06.94z\"/><path d=\"M17.41 7.96l-1.37-1.37c-.4-.4-.92-.59-1.43-.59-.52 0-1.04.2-1.43.59L10.3 9.45l-7.72 7.72c-.78.78-.78 2.05 0 2.83L4 21.41c.39.39.9.59 1.41.59.51 0 1.02-.2 1.41-.59l7.78-7.78 2.81-2.81c.8-.78.8-2.07 0-2.86zM5.41 20L4 18.59l7.72-7.72 1.47 1.35L5.41 20z\"/>\n",
              "  </svg>\n",
              "      </button>\n",
              "      \n",
              "  <style>\n",
              "    .colab-df-container {\n",
              "      display:flex;\n",
              "      flex-wrap:wrap;\n",
              "      gap: 12px;\n",
              "    }\n",
              "\n",
              "    .colab-df-convert {\n",
              "      background-color: #E8F0FE;\n",
              "      border: none;\n",
              "      border-radius: 50%;\n",
              "      cursor: pointer;\n",
              "      display: none;\n",
              "      fill: #1967D2;\n",
              "      height: 32px;\n",
              "      padding: 0 0 0 0;\n",
              "      width: 32px;\n",
              "    }\n",
              "\n",
              "    .colab-df-convert:hover {\n",
              "      background-color: #E2EBFA;\n",
              "      box-shadow: 0px 1px 2px rgba(60, 64, 67, 0.3), 0px 1px 3px 1px rgba(60, 64, 67, 0.15);\n",
              "      fill: #174EA6;\n",
              "    }\n",
              "\n",
              "    [theme=dark] .colab-df-convert {\n",
              "      background-color: #3B4455;\n",
              "      fill: #D2E3FC;\n",
              "    }\n",
              "\n",
              "    [theme=dark] .colab-df-convert:hover {\n",
              "      background-color: #434B5C;\n",
              "      box-shadow: 0px 1px 3px 1px rgba(0, 0, 0, 0.15);\n",
              "      filter: drop-shadow(0px 1px 2px rgba(0, 0, 0, 0.3));\n",
              "      fill: #FFFFFF;\n",
              "    }\n",
              "  </style>\n",
              "\n",
              "      <script>\n",
              "        const buttonEl =\n",
              "          document.querySelector('#df-675545c0-8f46-4460-9bbc-53c88800911c button.colab-df-convert');\n",
              "        buttonEl.style.display =\n",
              "          google.colab.kernel.accessAllowed ? 'block' : 'none';\n",
              "\n",
              "        async function convertToInteractive(key) {\n",
              "          const element = document.querySelector('#df-675545c0-8f46-4460-9bbc-53c88800911c');\n",
              "          const dataTable =\n",
              "            await google.colab.kernel.invokeFunction('convertToInteractive',\n",
              "                                                     [key], {});\n",
              "          if (!dataTable) return;\n",
              "\n",
              "          const docLinkHtml = 'Like what you see? Visit the ' +\n",
              "            '<a target=\"_blank\" href=https://colab.research.google.com/notebooks/data_table.ipynb>data table notebook</a>'\n",
              "            + ' to learn more about interactive tables.';\n",
              "          element.innerHTML = '';\n",
              "          dataTable['output_type'] = 'display_data';\n",
              "          await google.colab.output.renderOutput(dataTable, element);\n",
              "          const docLink = document.createElement('div');\n",
              "          docLink.innerHTML = docLinkHtml;\n",
              "          element.appendChild(docLink);\n",
              "        }\n",
              "      </script>\n",
              "    </div>\n",
              "  </div>\n",
              "  "
            ]
          },
          "metadata": {},
          "execution_count": 8
        }
      ],
      "source": [
        "data.describe()"
      ]
    },
    {
      "cell_type": "code",
      "execution_count": 9,
      "id": "d7edcd2f",
      "metadata": {
        "colab": {
          "base_uri": "https://localhost:8080/"
        },
        "id": "d7edcd2f",
        "outputId": "65753536-c7cf-4bd7-8c3b-4e9084586c30"
      },
      "outputs": [
        {
          "output_type": "execute_result",
          "data": {
            "text/plain": [
              "X1    0\n",
              "X2    0\n",
              "X3    0\n",
              "X4    0\n",
              "X5    0\n",
              "X6    0\n",
              "X7    0\n",
              "X8    0\n",
              "Y1    0\n",
              "Y2    0\n",
              "dtype: int64"
            ]
          },
          "metadata": {},
          "execution_count": 9
        }
      ],
      "source": [
        "data.isnull().sum() #checking is there any null value or not."
      ]
    },
    {
      "cell_type": "code",
      "execution_count": 10,
      "id": "6fc290f6",
      "metadata": {
        "scrolled": true,
        "colab": {
          "base_uri": "https://localhost:8080/"
        },
        "id": "6fc290f6",
        "outputId": "743b7aa6-5ad4-4392-ba95-6eb7aaf6384e"
      },
      "outputs": [
        {
          "output_type": "execute_result",
          "data": {
            "text/plain": [
              "15.16    6\n",
              "13.00    5\n",
              "15.23    4\n",
              "28.15    4\n",
              "14.60    4\n",
              "        ..\n",
              "33.21    1\n",
              "36.77    1\n",
              "36.71    1\n",
              "37.03    1\n",
              "16.64    1\n",
              "Name: Y1, Length: 587, dtype: int64"
            ]
          },
          "metadata": {},
          "execution_count": 10
        }
      ],
      "source": [
        "data['Y1'].value_counts()  # Here value_counts is use to check how many similar values present in Y1 column."
      ]
    },
    {
      "cell_type": "code",
      "execution_count": 11,
      "id": "53b297ba",
      "metadata": {
        "colab": {
          "base_uri": "https://localhost:8080/"
        },
        "id": "53b297ba",
        "outputId": "946dc9ca-22d7-4ddd-8f82-da0b6ef8abc1"
      },
      "outputs": [
        {
          "output_type": "execute_result",
          "data": {
            "text/plain": [
              "21.33    4\n",
              "29.79    4\n",
              "14.27    4\n",
              "17.20    4\n",
              "14.28    4\n",
              "        ..\n",
              "14.65    1\n",
              "14.54    1\n",
              "14.39    1\n",
              "14.46    1\n",
              "17.11    1\n",
              "Name: Y2, Length: 636, dtype: int64"
            ]
          },
          "metadata": {},
          "execution_count": 11
        }
      ],
      "source": [
        "data['Y2'].value_counts() # Here value_counts is use to check how many similar values present in Y2 column."
      ]
    },
    {
      "cell_type": "code",
      "execution_count": 12,
      "id": "ea5879eb",
      "metadata": {
        "colab": {
          "base_uri": "https://localhost:8080/",
          "height": 594
        },
        "id": "ea5879eb",
        "outputId": "4b69c960-9d78-4a2d-f45f-57ae9ff438c2"
      },
      "outputs": [
        {
          "output_type": "execute_result",
          "data": {
            "text/plain": [
              "Text(0.5, 1.0, 'Glazing Area Distribution (X8)')"
            ]
          },
          "metadata": {},
          "execution_count": 12
        },
        {
          "output_type": "display_data",
          "data": {
            "text/plain": [
              "<Figure size 2160x1080 with 8 Axes>"
            ],
            "image/png": "[encoded data removed]"
          },
          "metadata": {
            "needs_background": "light"
          }
        }
      ],
      "source": [
        "plt.figure(figsize = (30, 15))\n",
        "\n",
        "ax = plt.subplot(331)\n",
        "plt.boxplot(data.X1)\n",
        "ax.set_title('Relative compactness (X1)')\n",
        "\n",
        "ax = plt.subplot(332)\n",
        "plt.boxplot(data.X2)\n",
        "ax.set_title('Surface Area (X2)')\n",
        "\n",
        "ax = plt.subplot(333)\n",
        "plt.boxplot(data.X3)\n",
        "ax.set_title('Wall Area (X3)')\n",
        "\n",
        "ax = plt.subplot(334)\n",
        "plt.boxplot(data.X4)\n",
        "ax.set_title('Roof Area (X4)')\n",
        "\n",
        "ax = plt.subplot(335)\n",
        "plt.boxplot(data.X5)\n",
        "ax.set_title('Overall Height (X5)')\n",
        "\n",
        "ax = plt.subplot(336)\n",
        "plt.boxplot(data.X6)\n",
        "ax.set_title('Orientation (X6)')\n",
        "\n",
        "ax = plt.subplot(337)\n",
        "plt.boxplot(data.X6)\n",
        "ax.set_title('Glazing Area (X7)')\n",
        "\n",
        "ax = plt.subplot(338)\n",
        "plt.boxplot(data.X6)\n",
        "ax.set_title('Glazing Area Distribution (X8)')"
      ]
    },
    {
      "cell_type": "code",
      "execution_count": 13,
      "id": "f0699da0",
      "metadata": {
        "colab": {
          "base_uri": "https://localhost:8080/",
          "height": 334
        },
        "id": "f0699da0",
        "outputId": "7d88c39e-57e8-40a2-dba2-0361c17a187d"
      },
      "outputs": [
        {
          "output_type": "execute_result",
          "data": {
            "text/plain": [
              "(array([ 20., 187., 153.,  39.,  39.,  59.,  83.,  83.,  59.,  46.]),\n",
              " array([ 6.01 ,  9.719, 13.428, 17.137, 20.846, 24.555, 28.264, 31.973,\n",
              "        35.682, 39.391, 43.1  ]),\n",
              " <a list of 10 Patch objects>)"
            ]
          },
          "metadata": {},
          "execution_count": 13
        },
        {
          "output_type": "display_data",
          "data": {
            "text/plain": [
              "<Figure size 432x288 with 1 Axes>"
            ],
            "image/png": "[encoded data removed]"
          },
          "metadata": {
            "needs_background": "light"
          }
        }
      ],
      "source": [
        "plt.hist((data.Y1))"
      ]
    },
    {
      "cell_type": "code",
      "execution_count": 14,
      "id": "b9ef7063",
      "metadata": {
        "colab": {
          "base_uri": "https://localhost:8080/",
          "height": 334
        },
        "id": "b9ef7063",
        "outputId": "91bd8925-525d-42a0-dfb2-6b0f671f6b63"
      },
      "outputs": [
        {
          "output_type": "execute_result",
          "data": {
            "text/plain": [
              "(array([118., 204.,  61.,  29.,  73.,  94.,  98.,  56.,  21.,  14.]),\n",
              " array([10.9  , 14.613, 18.326, 22.039, 25.752, 29.465, 33.178, 36.891,\n",
              "        40.604, 44.317, 48.03 ]),\n",
              " <a list of 10 Patch objects>)"
            ]
          },
          "metadata": {},
          "execution_count": 14
        },
        {
          "output_type": "display_data",
          "data": {
            "text/plain": [
              "<Figure size 432x288 with 1 Axes>"
            ],
            "image/png": "[encoded data removed]"
          },
          "metadata": {
            "needs_background": "light"
          }
        }
      ],
      "source": [
        "plt.hist((data.Y2))"
      ]
    },
    {
      "cell_type": "code",
      "execution_count": 15,
      "id": "2971a1c4",
      "metadata": {
        "colab": {
          "base_uri": "https://localhost:8080/",
          "height": 334
        },
        "id": "2971a1c4",
        "outputId": "f83981f7-a27a-4f38-9e9c-a60f2cae3ac7"
      },
      "outputs": [
        {
          "output_type": "execute_result",
          "data": {
            "text/plain": [
              "(array([118., 204.,  61.,  29.,  73.,  94.,  98.,  56.,  21.,  14.]),\n",
              " array([10.9  , 14.613, 18.326, 22.039, 25.752, 29.465, 33.178, 36.891,\n",
              "        40.604, 44.317, 48.03 ]),\n",
              " <a list of 10 Patch objects>)"
            ]
          },
          "metadata": {},
          "execution_count": 15
        },
        {
          "output_type": "display_data",
          "data": {
            "text/plain": [
              "<Figure size 432x288 with 1 Axes>"
            ],
            "image/png": "[encoded data removed]"
          },
          "metadata": {
            "needs_background": "light"
          }
        }
      ],
      "source": [
        "plt.hist((data.Y1))\n",
        "plt.hist((data.Y2))"
      ]
    },
    {
      "cell_type": "code",
      "execution_count": 16,
      "id": "13dd85c1",
      "metadata": {
        "colab": {
          "base_uri": "https://localhost:8080/",
          "height": 491
        },
        "id": "13dd85c1",
        "outputId": "29af8fc1-05ae-4cd8-b1d1-633ba5e4d952"
      },
      "outputs": [
        {
          "output_type": "execute_result",
          "data": {
            "text/plain": [
              "array([[<matplotlib.axes._subplots.AxesSubplot object at 0x7fca7660da10>,\n",
              "        <matplotlib.axes._subplots.AxesSubplot object at 0x7fca765f5b90>,\n",
              "        <matplotlib.axes._subplots.AxesSubplot object at 0x7fca765ba1d0>],\n",
              "       [<matplotlib.axes._subplots.AxesSubplot object at 0x7fca765707d0>,\n",
              "        <matplotlib.axes._subplots.AxesSubplot object at 0x7fca76526dd0>,\n",
              "        <matplotlib.axes._subplots.AxesSubplot object at 0x7fca764eb410>],\n",
              "       [<matplotlib.axes._subplots.AxesSubplot object at 0x7fca764a3a90>,\n",
              "        <matplotlib.axes._subplots.AxesSubplot object at 0x7fca7644fb90>,\n",
              "        <matplotlib.axes._subplots.AxesSubplot object at 0x7fca76465090>],\n",
              "       [<matplotlib.axes._subplots.AxesSubplot object at 0x7fca7641f4d0>,\n",
              "        <matplotlib.axes._subplots.AxesSubplot object at 0x7fca7638cdd0>,\n",
              "        <matplotlib.axes._subplots.AxesSubplot object at 0x7fca7634f310>]],\n",
              "      dtype=object)"
            ]
          },
          "metadata": {},
          "execution_count": 16
        },
        {
          "output_type": "display_data",
          "data": {
            "text/plain": [
              "<Figure size 432x288 with 12 Axes>"
            ],
            "image/png": "[encoded data removed]"
          },
          "metadata": {
            "needs_background": "light"
          }
        }
      ],
      "source": [
        "data.plot(kind='density', subplots=True, layout=(4,3), sharex=False, sharey=False)"
      ]
    },
    {
      "cell_type": "code",
      "execution_count": 17,
      "id": "a44c6535",
      "metadata": {
        "scrolled": true,
        "colab": {
          "base_uri": "https://localhost:8080/",
          "height": 1000
        },
        "id": "a44c6535",
        "outputId": "60d5d9d7-af1d-4a78-d7e6-53a50047795b"
      },
      "outputs": [
        {
          "output_type": "execute_result",
          "data": {
            "text/plain": [
              "array([[<matplotlib.axes._subplots.AxesSubplot object at 0x7fca74285110>,\n",
              "        <matplotlib.axes._subplots.AxesSubplot object at 0x7fca76ec9190>,\n",
              "        <matplotlib.axes._subplots.AxesSubplot object at 0x7fca76cb5350>,\n",
              "        <matplotlib.axes._subplots.AxesSubplot object at 0x7fca767d7210>,\n",
              "        <matplotlib.axes._subplots.AxesSubplot object at 0x7fca76582650>,\n",
              "        <matplotlib.axes._subplots.AxesSubplot object at 0x7fca741cef50>,\n",
              "        <matplotlib.axes._subplots.AxesSubplot object at 0x7fca740e2950>,\n",
              "        <matplotlib.axes._subplots.AxesSubplot object at 0x7fca7409ae90>,\n",
              "        <matplotlib.axes._subplots.AxesSubplot object at 0x7fca7409aed0>,\n",
              "        <matplotlib.axes._subplots.AxesSubplot object at 0x7fca7405c610>],\n",
              "       [<matplotlib.axes._subplots.AxesSubplot object at 0x7fca73fd8150>,\n",
              "        <matplotlib.axes._subplots.AxesSubplot object at 0x7fca73f8f750>,\n",
              "        <matplotlib.axes._subplots.AxesSubplot object at 0x7fca73fc4d50>,\n",
              "        <matplotlib.axes._subplots.AxesSubplot object at 0x7fca73f88390>,\n",
              "        <matplotlib.axes._subplots.AxesSubplot object at 0x7fca73f3f990>,\n",
              "        <matplotlib.axes._subplots.AxesSubplot object at 0x7fca73ef7f90>,\n",
              "        <matplotlib.axes._subplots.AxesSubplot object at 0x7fca73eba5d0>,\n",
              "        <matplotlib.axes._subplots.AxesSubplot object at 0x7fca73e73bd0>,\n",
              "        <matplotlib.axes._subplots.AxesSubplot object at 0x7fca73e37210>,\n",
              "        <matplotlib.axes._subplots.AxesSubplot object at 0x7fca73dec810>],\n",
              "       [<matplotlib.axes._subplots.AxesSubplot object at 0x7fca73da4e10>,\n",
              "        <matplotlib.axes._subplots.AxesSubplot object at 0x7fca73d68450>,\n",
              "        <matplotlib.axes._subplots.AxesSubplot object at 0x7fca73d1fa10>,\n",
              "        <matplotlib.axes._subplots.AxesSubplot object at 0x7fca73cd8fd0>,\n",
              "        <matplotlib.axes._subplots.AxesSubplot object at 0x7fca73c936d0>,\n",
              "        <matplotlib.axes._subplots.AxesSubplot object at 0x7fca73cc8cd0>,\n",
              "        <matplotlib.axes._subplots.AxesSubplot object at 0x7fca73c0c310>,\n",
              "        <matplotlib.axes._subplots.AxesSubplot object at 0x7fca73c44910>,\n",
              "        <matplotlib.axes._subplots.AxesSubplot object at 0x7fca73bfbf10>,\n",
              "        <matplotlib.axes._subplots.AxesSubplot object at 0x7fca73bbe550>],\n",
              "       [<matplotlib.axes._subplots.AxesSubplot object at 0x7fca73b73b50>,\n",
              "        <matplotlib.axes._subplots.AxesSubplot object at 0x7fca73b329d0>,\n",
              "        <matplotlib.axes._subplots.AxesSubplot object at 0x7fca73ae8ed0>,\n",
              "        <matplotlib.axes._subplots.AxesSubplot object at 0x7fca73aad410>,\n",
              "        <matplotlib.axes._subplots.AxesSubplot object at 0x7fca73a63910>,\n",
              "        <matplotlib.axes._subplots.AxesSubplot object at 0x7fca73a1ae10>,\n",
              "        <matplotlib.axes._subplots.AxesSubplot object at 0x7fca739dc350>,\n",
              "        <matplotlib.axes._subplots.AxesSubplot object at 0x7fca73993850>,\n",
              "        <matplotlib.axes._subplots.AxesSubplot object at 0x7fca739c9d50>,\n",
              "        <matplotlib.axes._subplots.AxesSubplot object at 0x7fca7390e290>],\n",
              "       [<matplotlib.axes._subplots.AxesSubplot object at 0x7fca73944790>,\n",
              "        <matplotlib.axes._subplots.AxesSubplot object at 0x7fca738fbc90>,\n",
              "        <matplotlib.axes._subplots.AxesSubplot object at 0x7fca738be1d0>,\n",
              "        <matplotlib.axes._subplots.AxesSubplot object at 0x7fca738766d0>,\n",
              "        <matplotlib.axes._subplots.AxesSubplot object at 0x7fca7382bbd0>,\n",
              "        <matplotlib.axes._subplots.AxesSubplot object at 0x7fca737dfb90>,\n",
              "        <matplotlib.axes._subplots.AxesSubplot object at 0x7fca737ac590>,\n",
              "        <matplotlib.axes._subplots.AxesSubplot object at 0x7fca73765ad0>,\n",
              "        <matplotlib.axes._subplots.AxesSubplot object at 0x7fca73710b10>,\n",
              "        <matplotlib.axes._subplots.AxesSubplot object at 0x7fca736e1510>],\n",
              "       [<matplotlib.axes._subplots.AxesSubplot object at 0x7fca73695a10>,\n",
              "        <matplotlib.axes._subplots.AxesSubplot object at 0x7fca7364cf10>,\n",
              "        <matplotlib.axes._subplots.AxesSubplot object at 0x7fca7360e450>,\n",
              "        <matplotlib.axes._subplots.AxesSubplot object at 0x7fca73645950>,\n",
              "        <matplotlib.axes._subplots.AxesSubplot object at 0x7fca735fde50>,\n",
              "        <matplotlib.axes._subplots.AxesSubplot object at 0x7fca735bf390>,\n",
              "        <matplotlib.axes._subplots.AxesSubplot object at 0x7fca73577890>,\n",
              "        <matplotlib.axes._subplots.AxesSubplot object at 0x7fca7352fd90>,\n",
              "        <matplotlib.axes._subplots.AxesSubplot object at 0x7fca740f3490>,\n",
              "        <matplotlib.axes._subplots.AxesSubplot object at 0x7fca73eccdd0>],\n",
              "       [<matplotlib.axes._subplots.AxesSubplot object at 0x7fca73db9890>,\n",
              "        <matplotlib.axes._subplots.AxesSubplot object at 0x7fca73c16210>,\n",
              "        <matplotlib.axes._subplots.AxesSubplot object at 0x7fca73439c10>,\n",
              "        <matplotlib.axes._subplots.AxesSubplot object at 0x7fca733fe250>,\n",
              "        <matplotlib.axes._subplots.AxesSubplot object at 0x7fca733b4850>,\n",
              "        <matplotlib.axes._subplots.AxesSubplot object at 0x7fca7336ce50>,\n",
              "        <matplotlib.axes._subplots.AxesSubplot object at 0x7fca7332f490>,\n",
              "        <matplotlib.axes._subplots.AxesSubplot object at 0x7fca732e6a90>,\n",
              "        <matplotlib.axes._subplots.AxesSubplot object at 0x7fca732ac0d0>,\n",
              "        <matplotlib.axes._subplots.AxesSubplot object at 0x7fca732606d0>],\n",
              "       [<matplotlib.axes._subplots.AxesSubplot object at 0x7fca73218cd0>,\n",
              "        <matplotlib.axes._subplots.AxesSubplot object at 0x7fca731dd310>,\n",
              "        <matplotlib.axes._subplots.AxesSubplot object at 0x7fca73192910>,\n",
              "        <matplotlib.axes._subplots.AxesSubplot object at 0x7fca731caf10>,\n",
              "        <matplotlib.axes._subplots.AxesSubplot object at 0x7fca7310f550>,\n",
              "        <matplotlib.axes._subplots.AxesSubplot object at 0x7fca73144b50>,\n",
              "        <matplotlib.axes._subplots.AxesSubplot object at 0x7fca73107190>,\n",
              "        <matplotlib.axes._subplots.AxesSubplot object at 0x7fca730be790>,\n",
              "        <matplotlib.axes._subplots.AxesSubplot object at 0x7fca73077d90>,\n",
              "        <matplotlib.axes._subplots.AxesSubplot object at 0x7fca7303a3d0>],\n",
              "       [<matplotlib.axes._subplots.AxesSubplot object at 0x7fca72ff09d0>,\n",
              "        <matplotlib.axes._subplots.AxesSubplot object at 0x7fca72f9fb10>,\n",
              "        <matplotlib.axes._subplots.AxesSubplot object at 0x7fca72f6c610>,\n",
              "        <matplotlib.axes._subplots.AxesSubplot object at 0x7fca72f22c10>,\n",
              "        <matplotlib.axes._subplots.AxesSubplot object at 0x7fca72ee9250>,\n",
              "        <matplotlib.axes._subplots.AxesSubplot object at 0x7fca72e9e850>,\n",
              "        <matplotlib.axes._subplots.AxesSubplot object at 0x7fca72e52e50>,\n",
              "        <matplotlib.axes._subplots.AxesSubplot object at 0x7fca72e18490>,\n",
              "        <matplotlib.axes._subplots.AxesSubplot object at 0x7fca72dccb10>,\n",
              "        <matplotlib.axes._subplots.AxesSubplot object at 0x7fca72e05fd0>],\n",
              "       [<matplotlib.axes._subplots.AxesSubplot object at 0x7fca72dc7550>,\n",
              "        <matplotlib.axes._subplots.AxesSubplot object at 0x7fca72d7ea50>,\n",
              "        <matplotlib.axes._subplots.AxesSubplot object at 0x7fca72d34f50>,\n",
              "        <matplotlib.axes._subplots.AxesSubplot object at 0x7fca72cf9490>,\n",
              "        <matplotlib.axes._subplots.AxesSubplot object at 0x7fca72cae990>,\n",
              "        <matplotlib.axes._subplots.AxesSubplot object at 0x7fca72c65e90>,\n",
              "        <matplotlib.axes._subplots.AxesSubplot object at 0x7fca72c293d0>,\n",
              "        <matplotlib.axes._subplots.AxesSubplot object at 0x7fca72be08d0>,\n",
              "        <matplotlib.axes._subplots.AxesSubplot object at 0x7fca72b96dd0>,\n",
              "        <matplotlib.axes._subplots.AxesSubplot object at 0x7fca72b5a310>]],\n",
              "      dtype=object)"
            ]
          },
          "metadata": {},
          "execution_count": 17
        },
        {
          "output_type": "display_data",
          "data": {
            "text/plain": [
              "<Figure size 432x288 with 100 Axes>"
            ],
            "image/png": "[encoded data removed]"
          },
          "metadata": {
            "needs_background": "light"
          }
        }
      ],
      "source": [
        "scatter_matrix(data)"
      ]
    },
    {
      "cell_type": "code",
      "execution_count": 18,
      "id": "df71eac9",
      "metadata": {
        "colab": {
          "base_uri": "https://localhost:8080/",
          "height": 614
        },
        "id": "df71eac9",
        "outputId": "2b31292e-c316-4b8d-9f75-afc2ceb9c7bd"
      },
      "outputs": [
        {
          "output_type": "execute_result",
          "data": {
            "text/plain": [
              "<matplotlib.axes._subplots.AxesSubplot at 0x7fca724e1e50>"
            ]
          },
          "metadata": {},
          "execution_count": 18
        },
        {
          "output_type": "display_data",
          "data": {
            "text/plain": [
              "<Figure size 1080x720 with 2 Axes>"
            ],
            "image/png": "[encoded data removed]"
          },
          "metadata": {
            "needs_background": "light"
          }
        }
      ],
      "source": [
        "plt.subplots(figsize=(15,10))\n",
        "sns.heatmap(data.corr(),annot=True, cmap=\"Greens\",fmt='0.3f')  # Plotting heatmap of correlation"
      ]
    },
    {
      "cell_type": "markdown",
      "id": "b4b356db",
      "metadata": {
        "id": "b4b356db"
      },
      "source": [
        "X5(overall_height) has the highest correlation with Y1(heating_load) and Y2(cooling_load) (which is a positive correlation), followed by X4(roof_area) for both outputs which is a negative correlation, X6(orientation) has the least correlation"
      ]
    },
    {
      "cell_type": "code",
      "execution_count": 19,
      "id": "aa8d27cf",
      "metadata": {
        "colab": {
          "base_uri": "https://localhost:8080/",
          "height": 445
        },
        "id": "aa8d27cf",
        "outputId": "8f5e2155-d958-498c-d41b-6085f18eb4c1"
      },
      "outputs": [
        {
          "output_type": "execute_result",
          "data": {
            "text/plain": [
              "[Text(0, 0, 'X1'),\n",
              " Text(0, 0, 'X2'),\n",
              " Text(0, 0, 'X3'),\n",
              " Text(0, 0, 'X4'),\n",
              " Text(0, 0, 'X5'),\n",
              " Text(0, 0, 'X6'),\n",
              " Text(0, 0, 'X7'),\n",
              " Text(0, 0, 'X8'),\n",
              " Text(0, 0, 'Y1'),\n",
              " Text(0, 0, 'Y2')]"
            ]
          },
          "metadata": {},
          "execution_count": 19
        },
        {
          "output_type": "display_data",
          "data": {
            "text/plain": [
              "<Figure size 432x288 with 2 Axes>"
            ],
            "image/png": "[encoded data removed]"
          },
          "metadata": {
            "needs_background": "light"
          }
        }
      ],
      "source": [
        "fig = plt.figure()\n",
        "ax = fig.add_subplot(111)\n",
        "cax = ax.matshow(data.corr(), vmin=-1, vmax=1)\n",
        "fig.colorbar(cax)\n",
        "ticks = np.arange(0,10,1)\n",
        "ax.set_xticks(ticks)\n",
        "ax.set_yticks(ticks)\n",
        "ax.set_xticklabels(data.columns)\n",
        "ax.set_yticklabels(data.columns)"
      ]
    },
    {
      "cell_type": "markdown",
      "id": "7e84d8cb",
      "metadata": {
        "id": "7e84d8cb"
      },
      "source": [
        "'overall_height' has the highest positive corelation as expected"
      ]
    },
    {
      "cell_type": "code",
      "execution_count": 20,
      "id": "63a8f078",
      "metadata": {
        "colab": {
          "base_uri": "https://localhost:8080/"
        },
        "id": "63a8f078",
        "outputId": "f8d39501-aa3e-496e-aee4-83b9a43a1ef0"
      },
      "outputs": [
        {
          "output_type": "stream",
          "name": "stdout",
          "text": [
            "(768, 8)   (768,)\n"
          ]
        }
      ],
      "source": [
        "# Now we split our model into X and Y parts to finally predict the results using several algorithms.\n",
        "\n",
        "X=data[data.columns[:8]]  \n",
        "Y=data['Y2']   #Dependent attribute of cooling load\n",
        "print(X.shape,' ',Y.shape)"
      ]
    },
    {
      "cell_type": "code",
      "execution_count": 21,
      "id": "3c59870a",
      "metadata": {
        "colab": {
          "base_uri": "https://localhost:8080/"
        },
        "id": "3c59870a",
        "outputId": "62e4f202-9c11-4e1b-8c1c-188690286e9b"
      },
      "outputs": [
        {
          "output_type": "stream",
          "name": "stdout",
          "text": [
            "Number of Features:  3\n",
            "Selected Features:  [ True False  True False  True False False False]\n",
            "Feature Ranking:  [1 3 1 6 1 5 2 4]\n"
          ]
        }
      ],
      "source": [
        "#Feature Selection\n",
        "model = ExtraTreesRegressor()\n",
        "rfe = RFE(model, n_features_to_select=3)\n",
        "fit = rfe.fit(X, Y)\n",
        "\n",
        "print(\"Number of Features: \", fit.n_features_)\n",
        "print(\"Selected Features: \", fit.support_)\n",
        "print(\"Feature Ranking: \", fit.ranking_) "
      ]
    },
    {
      "cell_type": "markdown",
      "id": "b3d9b952",
      "metadata": {
        "id": "b3d9b952"
      },
      "source": [
        "'relative_compactness', 'surface_area' and 'overall_height' were top 3 selected features/feature combination for predicting 'cooling_load' using Recursive Feature Elimination, the 2nd and 3rd selected features were atually among the attributes with the highest correlation with the 'heating_load'"
      ]
    },
    {
      "cell_type": "markdown",
      "id": "fb822de0",
      "metadata": {
        "id": "fb822de0"
      },
      "source": [
        "## Check of Multicollinearity"
      ]
    },
    {
      "cell_type": "code",
      "execution_count": 22,
      "id": "85c43eb0",
      "metadata": {
        "scrolled": false,
        "colab": {
          "base_uri": "https://localhost:8080/",
          "height": 300
        },
        "id": "85c43eb0",
        "outputId": "d058d143-b3bf-43ab-aa4d-0588eca38792"
      },
      "outputs": [
        {
          "output_type": "execute_result",
          "data": {
            "text/plain": [
              "          VIF Column\n",
              "0  168.948751     X1\n",
              "1         inf     X2\n",
              "2         inf     X3\n",
              "3         inf     X4\n",
              "4  134.035782     X5\n",
              "5   10.796725     X6\n",
              "6    4.293656     X7\n",
              "7    4.496320     X8"
            ],
            "text/html": [
              "\n",
              "  <div id=\"df-42a26c82-5bf0-4b7e-ab07-267927a748c4\">\n",
              "    <div class=\"colab-df-container\">\n",
              "      <div>\n",
              "<style scoped>\n",
              "    .dataframe tbody tr th:only-of-type {\n",
              "        vertical-align: middle;\n",
              "    }\n",
              "\n",
              "    .dataframe tbody tr th {\n",
              "        vertical-align: top;\n",
              "    }\n",
              "\n",
              "    .dataframe thead th {\n",
              "        text-align: right;\n",
              "    }\n",
              "</style>\n",
              "<table border=\"1\" class=\"dataframe\">\n",
              "  <thead>\n",
              "    <tr style=\"text-align: right;\">\n",
              "      <th></th>\n",
              "      <th>VIF</th>\n",
              "      <th>Column</th>\n",
              "    </tr>\n",
              "  </thead>\n",
              "  <tbody>\n",
              "    <tr>\n",
              "      <th>0</th>\n",
              "      <td>168.948751</td>\n",
              "      <td>X1</td>\n",
              "    </tr>\n",
              "    <tr>\n",
              "      <th>1</th>\n",
              "      <td>inf</td>\n",
              "      <td>X2</td>\n",
              "    </tr>\n",
              "    <tr>\n",
              "      <th>2</th>\n",
              "      <td>inf</td>\n",
              "      <td>X3</td>\n",
              "    </tr>\n",
              "    <tr>\n",
              "      <th>3</th>\n",
              "      <td>inf</td>\n",
              "      <td>X4</td>\n",
              "    </tr>\n",
              "    <tr>\n",
              "      <th>4</th>\n",
              "      <td>134.035782</td>\n",
              "      <td>X5</td>\n",
              "    </tr>\n",
              "    <tr>\n",
              "      <th>5</th>\n",
              "      <td>10.796725</td>\n",
              "      <td>X6</td>\n",
              "    </tr>\n",
              "    <tr>\n",
              "      <th>6</th>\n",
              "      <td>4.293656</td>\n",
              "      <td>X7</td>\n",
              "    </tr>\n",
              "    <tr>\n",
              "      <th>7</th>\n",
              "      <td>4.496320</td>\n",
              "      <td>X8</td>\n",
              "    </tr>\n",
              "  </tbody>\n",
              "</table>\n",
              "</div>\n",
              "      <button class=\"colab-df-convert\" onclick=\"convertToInteractive('df-42a26c82-5bf0-4b7e-ab07-267927a748c4')\"\n",
              "              title=\"Convert this dataframe to an interactive table.\"\n",
              "              style=\"display:none;\">\n",
              "        \n",
              "  <svg xmlns=\"http://www.w3.org/2000/svg\" height=\"24px\"viewBox=\"0 0 24 24\"\n",
              "       width=\"24px\">\n",
              "    <path d=\"M0 0h24v24H0V0z\" fill=\"none\"/>\n",
              "    <path d=\"M18.56 5.44l.94 2.06.94-2.06 2.06-.94-2.06-.94-.94-2.06-.94 2.06-2.06.94zm-11 1L8.5 8.5l.94-2.06 2.06-.94-2.06-.94L8.5 2.5l-.94 2.06-2.06.94zm10 10l.94 2.06.94-2.06 2.06-.94-2.06-.94-.94-2.06-.94 2.06-2.06.94z\"/><path d=\"M17.41 7.96l-1.37-1.37c-.4-.4-.92-.59-1.43-.59-.52 0-1.04.2-1.43.59L10.3 9.45l-7.72 7.72c-.78.78-.78 2.05 0 2.83L4 21.41c.39.39.9.59 1.41.59.51 0 1.02-.2 1.41-.59l7.78-7.78 2.81-2.81c.8-.78.8-2.07 0-2.86zM5.41 20L4 18.59l7.72-7.72 1.47 1.35L5.41 20z\"/>\n",
              "  </svg>\n",
              "      </button>\n",
              "      \n",
              "  <style>\n",
              "    .colab-df-container {\n",
              "      display:flex;\n",
              "      flex-wrap:wrap;\n",
              "      gap: 12px;\n",
              "    }\n",
              "\n",
              "    .colab-df-convert {\n",
              "      background-color: #E8F0FE;\n",
              "      border: none;\n",
              "      border-radius: 50%;\n",
              "      cursor: pointer;\n",
              "      display: none;\n",
              "      fill: #1967D2;\n",
              "      height: 32px;\n",
              "      padding: 0 0 0 0;\n",
              "      width: 32px;\n",
              "    }\n",
              "\n",
              "    .colab-df-convert:hover {\n",
              "      background-color: #E2EBFA;\n",
              "      box-shadow: 0px 1px 2px rgba(60, 64, 67, 0.3), 0px 1px 3px 1px rgba(60, 64, 67, 0.15);\n",
              "      fill: #174EA6;\n",
              "    }\n",
              "\n",
              "    [theme=dark] .colab-df-convert {\n",
              "      background-color: #3B4455;\n",
              "      fill: #D2E3FC;\n",
              "    }\n",
              "\n",
              "    [theme=dark] .colab-df-convert:hover {\n",
              "      background-color: #434B5C;\n",
              "      box-shadow: 0px 1px 3px 1px rgba(0, 0, 0, 0.15);\n",
              "      filter: drop-shadow(0px 1px 2px rgba(0, 0, 0, 0.3));\n",
              "      fill: #FFFFFF;\n",
              "    }\n",
              "  </style>\n",
              "\n",
              "      <script>\n",
              "        const buttonEl =\n",
              "          document.querySelector('#df-42a26c82-5bf0-4b7e-ab07-267927a748c4 button.colab-df-convert');\n",
              "        buttonEl.style.display =\n",
              "          google.colab.kernel.accessAllowed ? 'block' : 'none';\n",
              "\n",
              "        async function convertToInteractive(key) {\n",
              "          const element = document.querySelector('#df-42a26c82-5bf0-4b7e-ab07-267927a748c4');\n",
              "          const dataTable =\n",
              "            await google.colab.kernel.invokeFunction('convertToInteractive',\n",
              "                                                     [key], {});\n",
              "          if (!dataTable) return;\n",
              "\n",
              "          const docLinkHtml = 'Like what you see? Visit the ' +\n",
              "            '<a target=\"_blank\" href=https://colab.research.google.com/notebooks/data_table.ipynb>data table notebook</a>'\n",
              "            + ' to learn more about interactive tables.';\n",
              "          element.innerHTML = '';\n",
              "          dataTable['output_type'] = 'display_data';\n",
              "          await google.colab.output.renderOutput(dataTable, element);\n",
              "          const docLink = document.createElement('div');\n",
              "          docLink.innerHTML = docLinkHtml;\n",
              "          element.appendChild(docLink);\n",
              "        }\n",
              "      </script>\n",
              "    </div>\n",
              "  </div>\n",
              "  "
            ]
          },
          "metadata": {},
          "execution_count": 22
        }
      ],
      "source": [
        "#Variance Inflation Factor(VIF) Calculation\n",
        "import statsmodels.api as sm\n",
        "from statsmodels.stats.outliers_influence import variance_inflation_factor\n",
        "\n",
        "vif_info = pd.DataFrame()\n",
        "vif_info['VIF'] = [variance_inflation_factor(X.values, i) for i in range(X.shape[1])]\n",
        "vif_info['Column'] = X.columns\n",
        "vif_info.sort_values('VIF', ascending=False)\n",
        "vif_info"
      ]
    },
    {
      "cell_type": "markdown",
      "id": "8a78c7d0",
      "metadata": {
        "id": "8a78c7d0"
      },
      "source": [
        "Here we can see that multicollinearity exists so dimensionality reduction required for X1 to X6 so we try to convert them to three principal components using PCA."
      ]
    },
    {
      "cell_type": "markdown",
      "id": "4044a940",
      "metadata": {
        "id": "4044a940"
      },
      "source": [
        "## PCA"
      ]
    },
    {
      "cell_type": "code",
      "execution_count": 23,
      "id": "d0d10e17",
      "metadata": {
        "colab": {
          "base_uri": "https://localhost:8080/",
          "height": 423
        },
        "id": "d0d10e17",
        "outputId": "7cb3e584-eb39-4a80-8a16-b258cef92403"
      },
      "outputs": [
        {
          "output_type": "execute_result",
          "data": {
            "text/plain": [
              "       X1     X2     X3      X4   X5  X6\n",
              "0    0.98  514.5  294.0  110.25  7.0   2\n",
              "1    0.98  514.5  294.0  110.25  7.0   3\n",
              "2    0.98  514.5  294.0  110.25  7.0   4\n",
              "3    0.98  514.5  294.0  110.25  7.0   5\n",
              "4    0.90  563.5  318.5  122.50  7.0   2\n",
              "..    ...    ...    ...     ...  ...  ..\n",
              "763  0.64  784.0  343.0  220.50  3.5   5\n",
              "764  0.62  808.5  367.5  220.50  3.5   2\n",
              "765  0.62  808.5  367.5  220.50  3.5   3\n",
              "766  0.62  808.5  367.5  220.50  3.5   4\n",
              "767  0.62  808.5  367.5  220.50  3.5   5\n",
              "\n",
              "[768 rows x 6 columns]"
            ],
            "text/html": [
              "\n",
              "  <div id=\"df-0dd886bc-fc84-4347-8224-2b78b32ef464\">\n",
              "    <div class=\"colab-df-container\">\n",
              "      <div>\n",
              "<style scoped>\n",
              "    .dataframe tbody tr th:only-of-type {\n",
              "        vertical-align: middle;\n",
              "    }\n",
              "\n",
              "    .dataframe tbody tr th {\n",
              "        vertical-align: top;\n",
              "    }\n",
              "\n",
              "    .dataframe thead th {\n",
              "        text-align: right;\n",
              "    }\n",
              "</style>\n",
              "<table border=\"1\" class=\"dataframe\">\n",
              "  <thead>\n",
              "    <tr style=\"text-align: right;\">\n",
              "      <th></th>\n",
              "      <th>X1</th>\n",
              "      <th>X2</th>\n",
              "      <th>X3</th>\n",
              "      <th>X4</th>\n",
              "      <th>X5</th>\n",
              "      <th>X6</th>\n",
              "    </tr>\n",
              "  </thead>\n",
              "  <tbody>\n",
              "    <tr>\n",
              "      <th>0</th>\n",
              "      <td>0.98</td>\n",
              "      <td>514.5</td>\n",
              "      <td>294.0</td>\n",
              "      <td>110.25</td>\n",
              "      <td>7.0</td>\n",
              "      <td>2</td>\n",
              "    </tr>\n",
              "    <tr>\n",
              "      <th>1</th>\n",
              "      <td>0.98</td>\n",
              "      <td>514.5</td>\n",
              "      <td>294.0</td>\n",
              "      <td>110.25</td>\n",
              "      <td>7.0</td>\n",
              "      <td>3</td>\n",
              "    </tr>\n",
              "    <tr>\n",
              "      <th>2</th>\n",
              "      <td>0.98</td>\n",
              "      <td>514.5</td>\n",
              "      <td>294.0</td>\n",
              "      <td>110.25</td>\n",
              "      <td>7.0</td>\n",
              "      <td>4</td>\n",
              "    </tr>\n",
              "    <tr>\n",
              "      <th>3</th>\n",
              "      <td>0.98</td>\n",
              "      <td>514.5</td>\n",
              "      <td>294.0</td>\n",
              "      <td>110.25</td>\n",
              "      <td>7.0</td>\n",
              "      <td>5</td>\n",
              "    </tr>\n",
              "    <tr>\n",
              "      <th>4</th>\n",
              "      <td>0.90</td>\n",
              "      <td>563.5</td>\n",
              "      <td>318.5</td>\n",
              "      <td>122.50</td>\n",
              "      <td>7.0</td>\n",
              "      <td>2</td>\n",
              "    </tr>\n",
              "    <tr>\n",
              "      <th>...</th>\n",
              "      <td>...</td>\n",
              "      <td>...</td>\n",
              "      <td>...</td>\n",
              "      <td>...</td>\n",
              "      <td>...</td>\n",
              "      <td>...</td>\n",
              "    </tr>\n",
              "    <tr>\n",
              "      <th>763</th>\n",
              "      <td>0.64</td>\n",
              "      <td>784.0</td>\n",
              "      <td>343.0</td>\n",
              "      <td>220.50</td>\n",
              "      <td>3.5</td>\n",
              "      <td>5</td>\n",
              "    </tr>\n",
              "    <tr>\n",
              "      <th>764</th>\n",
              "      <td>0.62</td>\n",
              "      <td>808.5</td>\n",
              "      <td>367.5</td>\n",
              "      <td>220.50</td>\n",
              "      <td>3.5</td>\n",
              "      <td>2</td>\n",
              "    </tr>\n",
              "    <tr>\n",
              "      <th>765</th>\n",
              "      <td>0.62</td>\n",
              "      <td>808.5</td>\n",
              "      <td>367.5</td>\n",
              "      <td>220.50</td>\n",
              "      <td>3.5</td>\n",
              "      <td>3</td>\n",
              "    </tr>\n",
              "    <tr>\n",
              "      <th>766</th>\n",
              "      <td>0.62</td>\n",
              "      <td>808.5</td>\n",
              "      <td>367.5</td>\n",
              "      <td>220.50</td>\n",
              "      <td>3.5</td>\n",
              "      <td>4</td>\n",
              "    </tr>\n",
              "    <tr>\n",
              "      <th>767</th>\n",
              "      <td>0.62</td>\n",
              "      <td>808.5</td>\n",
              "      <td>367.5</td>\n",
              "      <td>220.50</td>\n",
              "      <td>3.5</td>\n",
              "      <td>5</td>\n",
              "    </tr>\n",
              "  </tbody>\n",
              "</table>\n",
              "<p>768 rows × 6 columns</p>\n",
              "</div>\n",
              "      <button class=\"colab-df-convert\" onclick=\"convertToInteractive('df-0dd886bc-fc84-4347-8224-2b78b32ef464')\"\n",
              "              title=\"Convert this dataframe to an interactive table.\"\n",
              "              style=\"display:none;\">\n",
              "        \n",
              "  <svg xmlns=\"http://www.w3.org/2000/svg\" height=\"24px\"viewBox=\"0 0 24 24\"\n",
              "       width=\"24px\">\n",
              "    <path d=\"M0 0h24v24H0V0z\" fill=\"none\"/>\n",
              "    <path d=\"M18.56 5.44l.94 2.06.94-2.06 2.06-.94-2.06-.94-.94-2.06-.94 2.06-2.06.94zm-11 1L8.5 8.5l.94-2.06 2.06-.94-2.06-.94L8.5 2.5l-.94 2.06-2.06.94zm10 10l.94 2.06.94-2.06 2.06-.94-2.06-.94-.94-2.06-.94 2.06-2.06.94z\"/><path d=\"M17.41 7.96l-1.37-1.37c-.4-.4-.92-.59-1.43-.59-.52 0-1.04.2-1.43.59L10.3 9.45l-7.72 7.72c-.78.78-.78 2.05 0 2.83L4 21.41c.39.39.9.59 1.41.59.51 0 1.02-.2 1.41-.59l7.78-7.78 2.81-2.81c.8-.78.8-2.07 0-2.86zM5.41 20L4 18.59l7.72-7.72 1.47 1.35L5.41 20z\"/>\n",
              "  </svg>\n",
              "      </button>\n",
              "      \n",
              "  <style>\n",
              "    .colab-df-container {\n",
              "      display:flex;\n",
              "      flex-wrap:wrap;\n",
              "      gap: 12px;\n",
              "    }\n",
              "\n",
              "    .colab-df-convert {\n",
              "      background-color: #E8F0FE;\n",
              "      border: none;\n",
              "      border-radius: 50%;\n",
              "      cursor: pointer;\n",
              "      display: none;\n",
              "      fill: #1967D2;\n",
              "      height: 32px;\n",
              "      padding: 0 0 0 0;\n",
              "      width: 32px;\n",
              "    }\n",
              "\n",
              "    .colab-df-convert:hover {\n",
              "      background-color: #E2EBFA;\n",
              "      box-shadow: 0px 1px 2px rgba(60, 64, 67, 0.3), 0px 1px 3px 1px rgba(60, 64, 67, 0.15);\n",
              "      fill: #174EA6;\n",
              "    }\n",
              "\n",
              "    [theme=dark] .colab-df-convert {\n",
              "      background-color: #3B4455;\n",
              "      fill: #D2E3FC;\n",
              "    }\n",
              "\n",
              "    [theme=dark] .colab-df-convert:hover {\n",
              "      background-color: #434B5C;\n",
              "      box-shadow: 0px 1px 3px 1px rgba(0, 0, 0, 0.15);\n",
              "      filter: drop-shadow(0px 1px 2px rgba(0, 0, 0, 0.3));\n",
              "      fill: #FFFFFF;\n",
              "    }\n",
              "  </style>\n",
              "\n",
              "      <script>\n",
              "        const buttonEl =\n",
              "          document.querySelector('#df-0dd886bc-fc84-4347-8224-2b78b32ef464 button.colab-df-convert');\n",
              "        buttonEl.style.display =\n",
              "          google.colab.kernel.accessAllowed ? 'block' : 'none';\n",
              "\n",
              "        async function convertToInteractive(key) {\n",
              "          const element = document.querySelector('#df-0dd886bc-fc84-4347-8224-2b78b32ef464');\n",
              "          const dataTable =\n",
              "            await google.colab.kernel.invokeFunction('convertToInteractive',\n",
              "                                                     [key], {});\n",
              "          if (!dataTable) return;\n",
              "\n",
              "          const docLinkHtml = 'Like what you see? Visit the ' +\n",
              "            '<a target=\"_blank\" href=https://colab.research.google.com/notebooks/data_table.ipynb>data table notebook</a>'\n",
              "            + ' to learn more about interactive tables.';\n",
              "          element.innerHTML = '';\n",
              "          dataTable['output_type'] = 'display_data';\n",
              "          await google.colab.output.renderOutput(dataTable, element);\n",
              "          const docLink = document.createElement('div');\n",
              "          docLink.innerHTML = docLinkHtml;\n",
              "          element.appendChild(docLink);\n",
              "        }\n",
              "      </script>\n",
              "    </div>\n",
              "  </div>\n",
              "  "
            ]
          },
          "metadata": {},
          "execution_count": 23
        }
      ],
      "source": [
        "df1 = data[data.columns[:6]]\n",
        "df1"
      ]
    },
    {
      "cell_type": "code",
      "execution_count": 24,
      "id": "55ca8533",
      "metadata": {
        "colab": {
          "base_uri": "https://localhost:8080/"
        },
        "id": "55ca8533",
        "outputId": "1f6afd8b-e4f4-4934-bcc5-3bbefb9d6bcc"
      },
      "outputs": [
        {
          "output_type": "stream",
          "name": "stdout",
          "text": [
            "(768, 3)\n"
          ]
        }
      ],
      "source": [
        "from sklearn.decomposition import PCA\n",
        "from sklearn.preprocessing import StandardScaler\n",
        "# Scale data before applying PCA\n",
        "scaling=StandardScaler()\n",
        " \n",
        "# Use fit and transform method\n",
        "scaling.fit(df1)\n",
        "Scaled_data=scaling.transform(df1)\n",
        " \n",
        "# Set the n_components=3\n",
        "principal=PCA(n_components=3)\n",
        "principal.fit(Scaled_data)\n",
        "x=principal.transform(Scaled_data)\n",
        " \n",
        "# Check the dimensions of data after PCA\n",
        "print(x.shape)"
      ]
    },
    {
      "cell_type": "code",
      "execution_count": 25,
      "id": "865a839f",
      "metadata": {
        "colab": {
          "base_uri": "https://localhost:8080/"
        },
        "id": "865a839f",
        "outputId": "c8c94e50-40fb-44de-90ad-bc2e816702fa"
      },
      "outputs": [
        {
          "output_type": "execute_result",
          "data": {
            "text/plain": [
              "array([[ 4.95951415e-01, -5.01733022e-01,  3.25142980e-02,\n",
              "        -5.04962227e-01,  4.96237987e-01, -1.86320510e-17],\n",
              "       [-2.44734692e-01,  2.31540671e-01,  8.94291660e-01,\n",
              "        -2.06120761e-01,  2.10358046e-01, -8.35832914e-16],\n",
              "       [ 4.71844785e-16, -4.07896776e-16, -4.92680493e-16,\n",
              "         4.48249843e-16, -4.39837767e-16, -1.00000000e+00]])"
            ]
          },
          "metadata": {},
          "execution_count": 25
        }
      ],
      "source": [
        "# Check the values of eigen vectors\n",
        "# prodeced by principal components\n",
        "principal.components_"
      ]
    },
    {
      "cell_type": "code",
      "execution_count": 26,
      "id": "ef7e5b25",
      "metadata": {
        "colab": {
          "base_uri": "https://localhost:8080/",
          "height": 592
        },
        "id": "ef7e5b25",
        "outputId": "200dbbb6-a6ab-436c-aa19-4bf1e377d6d0"
      },
      "outputs": [
        {
          "output_type": "execute_result",
          "data": {
            "text/plain": [
              "Text(0.5, 0, 'PC3')"
            ]
          },
          "metadata": {},
          "execution_count": 26
        },
        {
          "output_type": "display_data",
          "data": {
            "text/plain": [
              "<Figure size 720x720 with 1 Axes>"
            ],
            "image/png": "[encoded data removed]"
          },
          "metadata": {
            "needs_background": "light"
          }
        }
      ],
      "source": [
        "# import relevant libraries for 3d graph\n",
        "from mpl_toolkits.mplot3d import Axes3D\n",
        "fig = plt.figure(figsize=(10,10))\n",
        " \n",
        "# choose projection 3d for creating a 3d graph\n",
        "axis = fig.add_subplot(111, projection='3d')\n",
        " \n",
        "# x[:,0]is pc1,x[:,1] is pc2 while x[:,2] is pc3\n",
        "axis.scatter(x[:,0],x[:,1],x[:,2], c=data['Y1'],cmap='plasma')\n",
        "axis.set_xlabel(\"PC1\", fontsize=10)\n",
        "axis.set_ylabel(\"PC2\", fontsize=10)\n",
        "axis.set_zlabel(\"PC3\", fontsize=10)"
      ]
    },
    {
      "cell_type": "code",
      "execution_count": 27,
      "id": "5d876f7a",
      "metadata": {
        "colab": {
          "base_uri": "https://localhost:8080/",
          "height": 592
        },
        "id": "5d876f7a",
        "outputId": "6943251e-c575-4877-f5e5-e3cf638d9a35"
      },
      "outputs": [
        {
          "output_type": "execute_result",
          "data": {
            "text/plain": [
              "Text(0.5, 0, 'PC3')"
            ]
          },
          "metadata": {},
          "execution_count": 27
        },
        {
          "output_type": "display_data",
          "data": {
            "text/plain": [
              "<Figure size 720x720 with 1 Axes>"
            ],
            "image/png": "[encoded data removed]"
          },
          "metadata": {
            "needs_background": "light"
          }
        }
      ],
      "source": [
        "# import relevant libraries for 3d graph\n",
        "from mpl_toolkits.mplot3d import Axes3D\n",
        "fig = plt.figure(figsize=(10,10))\n",
        " \n",
        "# choose projection 3d for creating a 3d graph\n",
        "axis = fig.add_subplot(111, projection='3d')\n",
        " \n",
        "# x[:,0]is pc1,x[:,1] is pc2 while x[:,2] is pc3\n",
        "axis.scatter(x[:,0],x[:,1],x[:,2], c=data['Y2'],cmap='plasma')\n",
        "axis.set_xlabel(\"PC1\", fontsize=10)\n",
        "axis.set_ylabel(\"PC2\", fontsize=10)\n",
        "axis.set_zlabel(\"PC3\", fontsize=10)"
      ]
    },
    {
      "cell_type": "code",
      "execution_count": 28,
      "id": "9682a55d",
      "metadata": {
        "colab": {
          "base_uri": "https://localhost:8080/"
        },
        "id": "9682a55d",
        "outputId": "a0339e60-9839-4e31-a110-7e46203b846d"
      },
      "outputs": [
        {
          "output_type": "stream",
          "name": "stdout",
          "text": [
            "[0.61715655 0.20664189 0.16666667]\n"
          ]
        }
      ],
      "source": [
        "# check how much variance is explained by each principal component\n",
        "print(principal.explained_variance_ratio_)"
      ]
    },
    {
      "cell_type": "code",
      "execution_count": 29,
      "id": "602d5dca",
      "metadata": {
        "scrolled": false,
        "colab": {
          "base_uri": "https://localhost:8080/",
          "height": 423
        },
        "id": "602d5dca",
        "outputId": "47f8c1bc-ad15-4e0c-83bd-5f35c63fc5a3"
      },
      "outputs": [
        {
          "output_type": "execute_result",
          "data": {
            "text/plain": [
              "          X11       X21       X31   X7  X8     Y1     Y2\n",
              "0    3.128954 -0.902373  1.341641  0.0   0  15.55  21.33\n",
              "1    3.128954 -0.902373  0.447214  0.0   0  15.55  21.33\n",
              "2    3.128954 -0.902373 -0.447214  0.0   0  15.55  21.33\n",
              "3    3.128954 -0.902373 -1.341641  0.0   0  15.55  21.33\n",
              "4    2.355562 -0.141667  1.341641  0.0   0  20.84  28.28\n",
              "..        ...       ...       ...  ...  ..    ...    ...\n",
              "763 -2.191623  0.674563 -1.341641  0.4   5  17.88  21.40\n",
              "764 -2.406826  1.287857  1.341641  0.4   5  16.54  16.88\n",
              "765 -2.406826  1.287857  0.447214  0.4   5  16.44  17.11\n",
              "766 -2.406826  1.287857 -0.447214  0.4   5  16.48  16.61\n",
              "767 -2.406826  1.287857 -1.341641  0.4   5  16.64  16.03\n",
              "\n",
              "[768 rows x 7 columns]"
            ],
            "text/html": [
              "\n",
              "  <div id=\"df-c4d3b2f6-eeb3-49cf-8fbe-361a07a0b809\">\n",
              "    <div class=\"colab-df-container\">\n",
              "      <div>\n",
              "<style scoped>\n",
              "    .dataframe tbody tr th:only-of-type {\n",
              "        vertical-align: middle;\n",
              "    }\n",
              "\n",
              "    .dataframe tbody tr th {\n",
              "        vertical-align: top;\n",
              "    }\n",
              "\n",
              "    .dataframe thead th {\n",
              "        text-align: right;\n",
              "    }\n",
              "</style>\n",
              "<table border=\"1\" class=\"dataframe\">\n",
              "  <thead>\n",
              "    <tr style=\"text-align: right;\">\n",
              "      <th></th>\n",
              "      <th>X11</th>\n",
              "      <th>X21</th>\n",
              "      <th>X31</th>\n",
              "      <th>X7</th>\n",
              "      <th>X8</th>\n",
              "      <th>Y1</th>\n",
              "      <th>Y2</th>\n",
              "    </tr>\n",
              "  </thead>\n",
              "  <tbody>\n",
              "    <tr>\n",
              "      <th>0</th>\n",
              "      <td>3.128954</td>\n",
              "      <td>-0.902373</td>\n",
              "      <td>1.341641</td>\n",
              "      <td>0.0</td>\n",
              "      <td>0</td>\n",
              "      <td>15.55</td>\n",
              "      <td>21.33</td>\n",
              "    </tr>\n",
              "    <tr>\n",
              "      <th>1</th>\n",
              "      <td>3.128954</td>\n",
              "      <td>-0.902373</td>\n",
              "      <td>0.447214</td>\n",
              "      <td>0.0</td>\n",
              "      <td>0</td>\n",
              "      <td>15.55</td>\n",
              "      <td>21.33</td>\n",
              "    </tr>\n",
              "    <tr>\n",
              "      <th>2</th>\n",
              "      <td>3.128954</td>\n",
              "      <td>-0.902373</td>\n",
              "      <td>-0.447214</td>\n",
              "      <td>0.0</td>\n",
              "      <td>0</td>\n",
              "      <td>15.55</td>\n",
              "      <td>21.33</td>\n",
              "    </tr>\n",
              "    <tr>\n",
              "      <th>3</th>\n",
              "      <td>3.128954</td>\n",
              "      <td>-0.902373</td>\n",
              "      <td>-1.341641</td>\n",
              "      <td>0.0</td>\n",
              "      <td>0</td>\n",
              "      <td>15.55</td>\n",
              "      <td>21.33</td>\n",
              "    </tr>\n",
              "    <tr>\n",
              "      <th>4</th>\n",
              "      <td>2.355562</td>\n",
              "      <td>-0.141667</td>\n",
              "      <td>1.341641</td>\n",
              "      <td>0.0</td>\n",
              "      <td>0</td>\n",
              "      <td>20.84</td>\n",
              "      <td>28.28</td>\n",
              "    </tr>\n",
              "    <tr>\n",
              "      <th>...</th>\n",
              "      <td>...</td>\n",
              "      <td>...</td>\n",
              "      <td>...</td>\n",
              "      <td>...</td>\n",
              "      <td>...</td>\n",
              "      <td>...</td>\n",
              "      <td>...</td>\n",
              "    </tr>\n",
              "    <tr>\n",
              "      <th>763</th>\n",
              "      <td>-2.191623</td>\n",
              "      <td>0.674563</td>\n",
              "      <td>-1.341641</td>\n",
              "      <td>0.4</td>\n",
              "      <td>5</td>\n",
              "      <td>17.88</td>\n",
              "      <td>21.40</td>\n",
              "    </tr>\n",
              "    <tr>\n",
              "      <th>764</th>\n",
              "      <td>-2.406826</td>\n",
              "      <td>1.287857</td>\n",
              "      <td>1.341641</td>\n",
              "      <td>0.4</td>\n",
              "      <td>5</td>\n",
              "      <td>16.54</td>\n",
              "      <td>16.88</td>\n",
              "    </tr>\n",
              "    <tr>\n",
              "      <th>765</th>\n",
              "      <td>-2.406826</td>\n",
              "      <td>1.287857</td>\n",
              "      <td>0.447214</td>\n",
              "      <td>0.4</td>\n",
              "      <td>5</td>\n",
              "      <td>16.44</td>\n",
              "      <td>17.11</td>\n",
              "    </tr>\n",
              "    <tr>\n",
              "      <th>766</th>\n",
              "      <td>-2.406826</td>\n",
              "      <td>1.287857</td>\n",
              "      <td>-0.447214</td>\n",
              "      <td>0.4</td>\n",
              "      <td>5</td>\n",
              "      <td>16.48</td>\n",
              "      <td>16.61</td>\n",
              "    </tr>\n",
              "    <tr>\n",
              "      <th>767</th>\n",
              "      <td>-2.406826</td>\n",
              "      <td>1.287857</td>\n",
              "      <td>-1.341641</td>\n",
              "      <td>0.4</td>\n",
              "      <td>5</td>\n",
              "      <td>16.64</td>\n",
              "      <td>16.03</td>\n",
              "    </tr>\n",
              "  </tbody>\n",
              "</table>\n",
              "<p>768 rows × 7 columns</p>\n",
              "</div>\n",
              "      <button class=\"colab-df-convert\" onclick=\"convertToInteractive('df-c4d3b2f6-eeb3-49cf-8fbe-361a07a0b809')\"\n",
              "              title=\"Convert this dataframe to an interactive table.\"\n",
              "              style=\"display:none;\">\n",
              "        \n",
              "  <svg xmlns=\"http://www.w3.org/2000/svg\" height=\"24px\"viewBox=\"0 0 24 24\"\n",
              "       width=\"24px\">\n",
              "    <path d=\"M0 0h24v24H0V0z\" fill=\"none\"/>\n",
              "    <path d=\"M18.56 5.44l.94 2.06.94-2.06 2.06-.94-2.06-.94-.94-2.06-.94 2.06-2.06.94zm-11 1L8.5 8.5l.94-2.06 2.06-.94-2.06-.94L8.5 2.5l-.94 2.06-2.06.94zm10 10l.94 2.06.94-2.06 2.06-.94-2.06-.94-.94-2.06-.94 2.06-2.06.94z\"/><path d=\"M17.41 7.96l-1.37-1.37c-.4-.4-.92-.59-1.43-.59-.52 0-1.04.2-1.43.59L10.3 9.45l-7.72 7.72c-.78.78-.78 2.05 0 2.83L4 21.41c.39.39.9.59 1.41.59.51 0 1.02-.2 1.41-.59l7.78-7.78 2.81-2.81c.8-.78.8-2.07 0-2.86zM5.41 20L4 18.59l7.72-7.72 1.47 1.35L5.41 20z\"/>\n",
              "  </svg>\n",
              "      </button>\n",
              "      \n",
              "  <style>\n",
              "    .colab-df-container {\n",
              "      display:flex;\n",
              "      flex-wrap:wrap;\n",
              "      gap: 12px;\n",
              "    }\n",
              "\n",
              "    .colab-df-convert {\n",
              "      background-color: #E8F0FE;\n",
              "      border: none;\n",
              "      border-radius: 50%;\n",
              "      cursor: pointer;\n",
              "      display: none;\n",
              "      fill: #1967D2;\n",
              "      height: 32px;\n",
              "      padding: 0 0 0 0;\n",
              "      width: 32px;\n",
              "    }\n",
              "\n",
              "    .colab-df-convert:hover {\n",
              "      background-color: #E2EBFA;\n",
              "      box-shadow: 0px 1px 2px rgba(60, 64, 67, 0.3), 0px 1px 3px 1px rgba(60, 64, 67, 0.15);\n",
              "      fill: #174EA6;\n",
              "    }\n",
              "\n",
              "    [theme=dark] .colab-df-convert {\n",
              "      background-color: #3B4455;\n",
              "      fill: #D2E3FC;\n",
              "    }\n",
              "\n",
              "    [theme=dark] .colab-df-convert:hover {\n",
              "      background-color: #434B5C;\n",
              "      box-shadow: 0px 1px 3px 1px rgba(0, 0, 0, 0.15);\n",
              "      filter: drop-shadow(0px 1px 2px rgba(0, 0, 0, 0.3));\n",
              "      fill: #FFFFFF;\n",
              "    }\n",
              "  </style>\n",
              "\n",
              "      <script>\n",
              "        const buttonEl =\n",
              "          document.querySelector('#df-c4d3b2f6-eeb3-49cf-8fbe-361a07a0b809 button.colab-df-convert');\n",
              "        buttonEl.style.display =\n",
              "          google.colab.kernel.accessAllowed ? 'block' : 'none';\n",
              "\n",
              "        async function convertToInteractive(key) {\n",
              "          const element = document.querySelector('#df-c4d3b2f6-eeb3-49cf-8fbe-361a07a0b809');\n",
              "          const dataTable =\n",
              "            await google.colab.kernel.invokeFunction('convertToInteractive',\n",
              "                                                     [key], {});\n",
              "          if (!dataTable) return;\n",
              "\n",
              "          const docLinkHtml = 'Like what you see? Visit the ' +\n",
              "            '<a target=\"_blank\" href=https://colab.research.google.com/notebooks/data_table.ipynb>data table notebook</a>'\n",
              "            + ' to learn more about interactive tables.';\n",
              "          element.innerHTML = '';\n",
              "          dataTable['output_type'] = 'display_data';\n",
              "          await google.colab.output.renderOutput(dataTable, element);\n",
              "          const docLink = document.createElement('div');\n",
              "          docLink.innerHTML = docLinkHtml;\n",
              "          element.appendChild(docLink);\n",
              "        }\n",
              "      </script>\n",
              "    </div>\n",
              "  </div>\n",
              "  "
            ]
          },
          "metadata": {},
          "execution_count": 29
        }
      ],
      "source": [
        "#Combining PCAs to remaining attributes X7 and X8\n",
        "x = pd.DataFrame(x,columns={'X11','X21','X31'})\n",
        "# print((x))\n",
        "df2 = data[data.columns[6:]]\n",
        "# print((df2))\n",
        "new_data = pd.concat([x,data[data.columns[6:]]],axis=1)\n",
        "new_data"
      ]
    },
    {
      "cell_type": "code",
      "execution_count": 30,
      "id": "faa9a24e",
      "metadata": {
        "colab": {
          "base_uri": "https://localhost:8080/"
        },
        "id": "faa9a24e",
        "outputId": "3705f6b7-b8b0-49a9-ebcb-dd3824bc42be"
      },
      "outputs": [
        {
          "output_type": "stream",
          "name": "stdout",
          "text": [
            "(768, 5) (768, 2)\n"
          ]
        }
      ],
      "source": [
        "Xnew = new_data[new_data.columns[:5]]\n",
        "Ynew = new_data[new_data.columns[5:]]\n",
        "print(Xnew.shape,Ynew.shape)"
      ]
    },
    {
      "cell_type": "code",
      "execution_count": 31,
      "id": "9892a2e3",
      "metadata": {
        "id": "9892a2e3"
      },
      "outputs": [],
      "source": [
        "from sklearn.model_selection import train_test_split\n",
        "Xnew_train, Xnew_test, ynew_train, ynew_test = train_test_split(Xnew, Ynew, test_size = 0.3, random_state = 10)"
      ]
    },
    {
      "cell_type": "markdown",
      "id": "3dc6c72a",
      "metadata": {
        "id": "3dc6c72a"
      },
      "source": [
        "# Cooling Load(Y2)"
      ]
    },
    {
      "cell_type": "markdown",
      "id": "1deccc88",
      "metadata": {
        "id": "1deccc88"
      },
      "source": [
        "## Linear Regression"
      ]
    },
    {
      "cell_type": "code",
      "execution_count": 32,
      "id": "68666682",
      "metadata": {
        "colab": {
          "base_uri": "https://localhost:8080/"
        },
        "id": "68666682",
        "outputId": "b48a0a71-d8d9-411c-cd68-e04720e74e0b"
      },
      "outputs": [
        {
          "output_type": "execute_result",
          "data": {
            "text/plain": [
              "LinearRegression()"
            ]
          },
          "metadata": {},
          "execution_count": 32
        }
      ],
      "source": [
        "from sklearn.linear_model import LinearRegression  # fitting model\n",
        "new_model_cl=LinearRegression().fit(Xnew_train,ynew_train.Y2)\n",
        "new_model_cl"
      ]
    },
    {
      "cell_type": "code",
      "execution_count": 33,
      "id": "873eca74",
      "metadata": {
        "id": "873eca74"
      },
      "outputs": [],
      "source": [
        "pred_val_cl = new_model_cl.predict(Xnew_test)"
      ]
    },
    {
      "cell_type": "code",
      "execution_count": 34,
      "id": "11200114",
      "metadata": {
        "colab": {
          "base_uri": "https://localhost:8080/",
          "height": 298
        },
        "id": "11200114",
        "outputId": "87bdd96a-c4eb-46bc-d1e1-98f96a2b0e39"
      },
      "outputs": [
        {
          "output_type": "execute_result",
          "data": {
            "text/plain": [
              "Text(0, 0.5, 'Predicted_values')"
            ]
          },
          "metadata": {},
          "execution_count": 34
        },
        {
          "output_type": "display_data",
          "data": {
            "text/plain": [
              "<Figure size 432x288 with 1 Axes>"
            ],
            "image/png": "[encoded data removed]"
          },
          "metadata": {
            "needs_background": "light"
          }
        }
      ],
      "source": [
        "# plot a scatter plot\n",
        "plt.scatter(ynew_test.Y2,pred_val_cl,c=\"r\");plt.xlabel(\"Actual_values\");plt.ylabel(\"Predicted_values\")"
      ]
    },
    {
      "cell_type": "code",
      "execution_count": 35,
      "id": "15c67cab",
      "metadata": {
        "id": "15c67cab"
      },
      "outputs": [],
      "source": [
        "m,b=np.polyfit(ynew_test.Y2,pred_val_cl,1)"
      ]
    },
    {
      "cell_type": "code",
      "execution_count": 36,
      "id": "7de1062a",
      "metadata": {
        "colab": {
          "base_uri": "https://localhost:8080/",
          "height": 298
        },
        "id": "7de1062a",
        "outputId": "a58f5d00-7307-42b2-91b3-c5253b64c573"
      },
      "outputs": [
        {
          "output_type": "execute_result",
          "data": {
            "text/plain": [
              "[<matplotlib.lines.Line2D at 0x7fca5e6e9090>]"
            ]
          },
          "metadata": {},
          "execution_count": 36
        },
        {
          "output_type": "display_data",
          "data": {
            "text/plain": [
              "<Figure size 432x288 with 1 Axes>"
            ],
            "image/png": "[encoded data removed]"
          },
          "metadata": {
            "needs_background": "light"
          }
        }
      ],
      "source": [
        "plt.scatter(ynew_test.Y2,pred_val_cl,c=\"r\");plt.xlabel(\"Actual_values\");plt.ylabel(\"Predicted_values\") ;plt.plot(data.Y2,m*data.Y2+b)"
      ]
    },
    {
      "cell_type": "code",
      "execution_count": 37,
      "id": "65f26841",
      "metadata": {
        "colab": {
          "base_uri": "https://localhost:8080/"
        },
        "id": "65f26841",
        "outputId": "da897a54-b186-41e8-86e8-0119763be5e7"
      },
      "outputs": [
        {
          "output_type": "execute_result",
          "data": {
            "text/plain": [
              "0.8481650414053789"
            ]
          },
          "metadata": {},
          "execution_count": 37
        }
      ],
      "source": [
        "# Calculating R2 score \n",
        "from sklearn.metrics import r2_score\n",
        "R2_LR_cl=np.mean(r2_score(ynew_test.Y2,pred_val_cl))   #R squared score of complete Y\n",
        "R2_LR_cl"
      ]
    },
    {
      "cell_type": "code",
      "execution_count": 38,
      "id": "c7beb3e7",
      "metadata": {
        "colab": {
          "base_uri": "https://localhost:8080/"
        },
        "id": "c7beb3e7",
        "outputId": "58e3f9fc-1ba5-4c16-a2bc-e0e9527ecfde"
      },
      "outputs": [
        {
          "output_type": "execute_result",
          "data": {
            "text/plain": [
              "3.7298729201363394"
            ]
          },
          "metadata": {},
          "execution_count": 38
        }
      ],
      "source": [
        "# RMSE for Cooling load\n",
        "from sklearn.metrics import mean_squared_error\n",
        "\n",
        "from math import sqrt\n",
        "rmse_lr_cl = sqrt(mean_squared_error(ynew_test.Y2,pred_val_cl))\n",
        "rmse_lr_cl"
      ]
    },
    {
      "cell_type": "markdown",
      "id": "900797d6",
      "metadata": {
        "id": "900797d6"
      },
      "source": [
        "## Decision Tree"
      ]
    },
    {
      "cell_type": "code",
      "execution_count": 39,
      "id": "649e1a06",
      "metadata": {
        "colab": {
          "base_uri": "https://localhost:8080/"
        },
        "id": "649e1a06",
        "outputId": "e371be9b-6b6a-40da-dbfb-ac0c748bb6dd"
      },
      "outputs": [
        {
          "output_type": "execute_result",
          "data": {
            "text/plain": [
              "0.9729019801178235"
            ]
          },
          "metadata": {},
          "execution_count": 39
        }
      ],
      "source": [
        "from sklearn.tree import DecisionTreeRegressor\n",
        "dt_model = DecisionTreeRegressor(random_state=23)\n",
        "dt_model.fit(Xnew_train, ynew_train.Y2)\n",
        "y_pred11 = dt_model.predict(Xnew_test)\n",
        "R2_dt = np.mean(r2_score(ynew_test.Y2, y_pred11))\n",
        "\n",
        "R2_dt"
      ]
    },
    {
      "cell_type": "code",
      "execution_count": 40,
      "id": "4634392f",
      "metadata": {
        "colab": {
          "base_uri": "https://localhost:8080/"
        },
        "id": "4634392f",
        "outputId": "48fad9ad-cb70-4ff5-f50b-437cd602bbf5"
      },
      "outputs": [
        {
          "output_type": "execute_result",
          "data": {
            "text/plain": [
              "1.5757123037119636"
            ]
          },
          "metadata": {},
          "execution_count": 40
        }
      ],
      "source": [
        "from sklearn.metrics import mean_squared_error\n",
        "from math import sqrt\n",
        "rmse_dt = sqrt(mean_squared_error(ynew_test.Y2, y_pred11))\n",
        "\n",
        "rmse_dt"
      ]
    },
    {
      "cell_type": "markdown",
      "id": "b30900cf",
      "metadata": {
        "id": "b30900cf"
      },
      "source": [
        "## Gradient Boosting"
      ]
    },
    {
      "cell_type": "code",
      "execution_count": 41,
      "id": "99b7775d",
      "metadata": {
        "colab": {
          "base_uri": "https://localhost:8080/"
        },
        "id": "99b7775d",
        "outputId": "f5aea65c-b70e-47ac-8295-7871e044d7c3"
      },
      "outputs": [
        {
          "output_type": "execute_result",
          "data": {
            "text/plain": [
              "0.9748377737979732"
            ]
          },
          "metadata": {},
          "execution_count": 41
        }
      ],
      "source": [
        "from sklearn.ensemble import GradientBoostingRegressor\n",
        "GB_model= GradientBoostingRegressor()\n",
        "GB_model.fit(Xnew_train, ynew_train.Y2)\n",
        "GB_model.score(Xnew_test,ynew_test.Y2)"
      ]
    },
    {
      "cell_type": "code",
      "execution_count": 42,
      "id": "510995e1",
      "metadata": {
        "colab": {
          "base_uri": "https://localhost:8080/"
        },
        "id": "510995e1",
        "outputId": "1d86d67f-2263-4def-9aac-a8c6495bcbe7"
      },
      "outputs": [
        {
          "output_type": "execute_result",
          "data": {
            "text/plain": [
              "0.9748377737979732"
            ]
          },
          "metadata": {},
          "execution_count": 42
        }
      ],
      "source": [
        "y_pred12 = GB_model.predict(Xnew_test)\n",
        "R2_GB = np.mean(r2_score(ynew_test.Y2, y_pred12))\n",
        "R2_GB"
      ]
    },
    {
      "cell_type": "code",
      "execution_count": 43,
      "id": "d42ca341",
      "metadata": {
        "colab": {
          "base_uri": "https://localhost:8080/"
        },
        "id": "d42ca341",
        "outputId": "901e8c4f-3a35-48fb-f42c-6b279ba1d082"
      },
      "outputs": [
        {
          "output_type": "execute_result",
          "data": {
            "text/plain": [
              "1.5183877059915412"
            ]
          },
          "metadata": {},
          "execution_count": 43
        }
      ],
      "source": [
        "rmse_GB = sqrt(mean_squared_error(ynew_test.Y2, y_pred12))\n",
        "\n",
        "rmse_GB"
      ]
    },
    {
      "cell_type": "markdown",
      "id": "6fb4eea3",
      "metadata": {
        "id": "6fb4eea3"
      },
      "source": [
        "## Random Forest"
      ]
    },
    {
      "cell_type": "code",
      "execution_count": 44,
      "id": "205095d0",
      "metadata": {
        "colab": {
          "base_uri": "https://localhost:8080/"
        },
        "id": "205095d0",
        "outputId": "b58157a2-fa72-471b-cc01-f3089467aa21"
      },
      "outputs": [
        {
          "output_type": "execute_result",
          "data": {
            "text/plain": [
              "0.9716204773278881"
            ]
          },
          "metadata": {},
          "execution_count": 44
        }
      ],
      "source": [
        "from sklearn.ensemble import RandomForestRegressor\n",
        "rf_model = RandomForestRegressor(random_state=123)\n",
        "rf_model.fit(Xnew_train, ynew_train.Y2)\n",
        "y_pred13 = rf_model.predict(Xnew_test)\n",
        "R2_rf = np.mean(r2_score(ynew_test.Y2, y_pred13))\n",
        "R2_rf"
      ]
    },
    {
      "cell_type": "code",
      "execution_count": 45,
      "id": "3178cc0b",
      "metadata": {
        "colab": {
          "base_uri": "https://localhost:8080/"
        },
        "id": "3178cc0b",
        "outputId": "de3b5248-46bc-4ffc-b661-c44bb2188fdb"
      },
      "outputs": [
        {
          "output_type": "execute_result",
          "data": {
            "text/plain": [
              "1.6125407223019956"
            ]
          },
          "metadata": {},
          "execution_count": 45
        }
      ],
      "source": [
        "rmse_rf = sqrt(mean_squared_error(ynew_test.Y2, y_pred13))\n",
        "\n",
        "rmse_rf"
      ]
    },
    {
      "cell_type": "markdown",
      "id": "01c61268",
      "metadata": {
        "id": "01c61268"
      },
      "source": [
        "## Support Vector Regressor"
      ]
    },
    {
      "cell_type": "code",
      "execution_count": 46,
      "id": "6aed826f",
      "metadata": {
        "colab": {
          "base_uri": "https://localhost:8080/"
        },
        "id": "6aed826f",
        "outputId": "2a76a9aa-8900-4026-b451-eb4890e0ac7e"
      },
      "outputs": [
        {
          "output_type": "execute_result",
          "data": {
            "text/plain": [
              "0.8635189393247259"
            ]
          },
          "metadata": {},
          "execution_count": 46
        }
      ],
      "source": [
        "from sklearn.svm import SVR\n",
        "model_svr=SVR().fit(Xnew_train,ynew_train.Y2)\n",
        "model_svr.score(Xnew_test,ynew_test.Y2)"
      ]
    },
    {
      "cell_type": "code",
      "execution_count": 47,
      "id": "fceb17cd",
      "metadata": {
        "colab": {
          "base_uri": "https://localhost:8080/"
        },
        "id": "fceb17cd",
        "outputId": "84a44e5c-6803-40c7-ea21-82e37f2a4ef0"
      },
      "outputs": [
        {
          "output_type": "execute_result",
          "data": {
            "text/plain": [
              "0.8635189393247259"
            ]
          },
          "metadata": {},
          "execution_count": 47
        }
      ],
      "source": [
        "y_pred14 = model_svr.predict(Xnew_test)\n",
        "R2_svr = np.mean(r2_score(ynew_test.Y2, y_pred14))\n",
        "R2_svr"
      ]
    },
    {
      "cell_type": "code",
      "execution_count": 48,
      "id": "e51ec765",
      "metadata": {
        "colab": {
          "base_uri": "https://localhost:8080/"
        },
        "id": "e51ec765",
        "outputId": "ec72d4de-485f-4af6-a449-2433a287b3b4"
      },
      "outputs": [
        {
          "output_type": "execute_result",
          "data": {
            "text/plain": [
              "3.5362612500541406"
            ]
          },
          "metadata": {},
          "execution_count": 48
        }
      ],
      "source": [
        "rmse_svr = sqrt(mean_squared_error(ynew_test.Y2, y_pred14))\n",
        "\n",
        "rmse_svr"
      ]
    },
    {
      "cell_type": "code",
      "execution_count": 49,
      "id": "4575ff46",
      "metadata": {
        "id": "4575ff46"
      },
      "outputs": [],
      "source": [
        "#comparing models based on rmse value\n",
        "models= pd.DataFrame({ \n",
        "\"Model\" : [\"Linear Regression\",\"Decision Tree\",\"Random Forest\",\"Gradient Boosting\",\"Support Vector Regressor\"],\n",
        "\"R2 Score\" : [R2_LR_cl,R2_dt,R2_rf,R2_GB,R2_svr],\n",
        "\"RMSE Value\" : [rmse_lr_cl,rmse_dt,rmse_rf,rmse_GB,rmse_svr]\n",
        "\n",
        "})"
      ]
    },
    {
      "cell_type": "code",
      "execution_count": 50,
      "id": "d0bf5494",
      "metadata": {
        "colab": {
          "base_uri": "https://localhost:8080/",
          "height": 206
        },
        "id": "d0bf5494",
        "outputId": "aad13233-e95a-471b-89e0-5cf50b2fec5c"
      },
      "outputs": [
        {
          "output_type": "execute_result",
          "data": {
            "text/plain": [
              "                      Model  R2 Score  RMSE Value\n",
              "0         Linear Regression  0.848165    3.729873\n",
              "1             Decision Tree  0.972902    1.575712\n",
              "2             Random Forest  0.971620    1.612541\n",
              "3         Gradient Boosting  0.974838    1.518388\n",
              "4  Support Vector Regressor  0.863519    3.536261"
            ],
            "text/html": [
              "\n",
              "  <div id=\"df-5517a116-c404-4711-936b-48716edbb929\">\n",
              "    <div class=\"colab-df-container\">\n",
              "      <div>\n",
              "<style scoped>\n",
              "    .dataframe tbody tr th:only-of-type {\n",
              "        vertical-align: middle;\n",
              "    }\n",
              "\n",
              "    .dataframe tbody tr th {\n",
              "        vertical-align: top;\n",
              "    }\n",
              "\n",
              "    .dataframe thead th {\n",
              "        text-align: right;\n",
              "    }\n",
              "</style>\n",
              "<table border=\"1\" class=\"dataframe\">\n",
              "  <thead>\n",
              "    <tr style=\"text-align: right;\">\n",
              "      <th></th>\n",
              "      <th>Model</th>\n",
              "      <th>R2 Score</th>\n",
              "      <th>RMSE Value</th>\n",
              "    </tr>\n",
              "  </thead>\n",
              "  <tbody>\n",
              "    <tr>\n",
              "      <th>0</th>\n",
              "      <td>Linear Regression</td>\n",
              "      <td>0.848165</td>\n",
              "      <td>3.729873</td>\n",
              "    </tr>\n",
              "    <tr>\n",
              "      <th>1</th>\n",
              "      <td>Decision Tree</td>\n",
              "      <td>0.972902</td>\n",
              "      <td>1.575712</td>\n",
              "    </tr>\n",
              "    <tr>\n",
              "      <th>2</th>\n",
              "      <td>Random Forest</td>\n",
              "      <td>0.971620</td>\n",
              "      <td>1.612541</td>\n",
              "    </tr>\n",
              "    <tr>\n",
              "      <th>3</th>\n",
              "      <td>Gradient Boosting</td>\n",
              "      <td>0.974838</td>\n",
              "      <td>1.518388</td>\n",
              "    </tr>\n",
              "    <tr>\n",
              "      <th>4</th>\n",
              "      <td>Support Vector Regressor</td>\n",
              "      <td>0.863519</td>\n",
              "      <td>3.536261</td>\n",
              "    </tr>\n",
              "  </tbody>\n",
              "</table>\n",
              "</div>\n",
              "      <button class=\"colab-df-convert\" onclick=\"convertToInteractive('df-5517a116-c404-4711-936b-48716edbb929')\"\n",
              "              title=\"Convert this dataframe to an interactive table.\"\n",
              "              style=\"display:none;\">\n",
              "        \n",
              "  <svg xmlns=\"http://www.w3.org/2000/svg\" height=\"24px\"viewBox=\"0 0 24 24\"\n",
              "       width=\"24px\">\n",
              "    <path d=\"M0 0h24v24H0V0z\" fill=\"none\"/>\n",
              "    <path d=\"M18.56 5.44l.94 2.06.94-2.06 2.06-.94-2.06-.94-.94-2.06-.94 2.06-2.06.94zm-11 1L8.5 8.5l.94-2.06 2.06-.94-2.06-.94L8.5 2.5l-.94 2.06-2.06.94zm10 10l.94 2.06.94-2.06 2.06-.94-2.06-.94-.94-2.06-.94 2.06-2.06.94z\"/><path d=\"M17.41 7.96l-1.37-1.37c-.4-.4-.92-.59-1.43-.59-.52 0-1.04.2-1.43.59L10.3 9.45l-7.72 7.72c-.78.78-.78 2.05 0 2.83L4 21.41c.39.39.9.59 1.41.59.51 0 1.02-.2 1.41-.59l7.78-7.78 2.81-2.81c.8-.78.8-2.07 0-2.86zM5.41 20L4 18.59l7.72-7.72 1.47 1.35L5.41 20z\"/>\n",
              "  </svg>\n",
              "      </button>\n",
              "      \n",
              "  <style>\n",
              "    .colab-df-container {\n",
              "      display:flex;\n",
              "      flex-wrap:wrap;\n",
              "      gap: 12px;\n",
              "    }\n",
              "\n",
              "    .colab-df-convert {\n",
              "      background-color: #E8F0FE;\n",
              "      border: none;\n",
              "      border-radius: 50%;\n",
              "      cursor: pointer;\n",
              "      display: none;\n",
              "      fill: #1967D2;\n",
              "      height: 32px;\n",
              "      padding: 0 0 0 0;\n",
              "      width: 32px;\n",
              "    }\n",
              "\n",
              "    .colab-df-convert:hover {\n",
              "      background-color: #E2EBFA;\n",
              "      box-shadow: 0px 1px 2px rgba(60, 64, 67, 0.3), 0px 1px 3px 1px rgba(60, 64, 67, 0.15);\n",
              "      fill: #174EA6;\n",
              "    }\n",
              "\n",
              "    [theme=dark] .colab-df-convert {\n",
              "      background-color: #3B4455;\n",
              "      fill: #D2E3FC;\n",
              "    }\n",
              "\n",
              "    [theme=dark] .colab-df-convert:hover {\n",
              "      background-color: #434B5C;\n",
              "      box-shadow: 0px 1px 3px 1px rgba(0, 0, 0, 0.15);\n",
              "      filter: drop-shadow(0px 1px 2px rgba(0, 0, 0, 0.3));\n",
              "      fill: #FFFFFF;\n",
              "    }\n",
              "  </style>\n",
              "\n",
              "      <script>\n",
              "        const buttonEl =\n",
              "          document.querySelector('#df-5517a116-c404-4711-936b-48716edbb929 button.colab-df-convert');\n",
              "        buttonEl.style.display =\n",
              "          google.colab.kernel.accessAllowed ? 'block' : 'none';\n",
              "\n",
              "        async function convertToInteractive(key) {\n",
              "          const element = document.querySelector('#df-5517a116-c404-4711-936b-48716edbb929');\n",
              "          const dataTable =\n",
              "            await google.colab.kernel.invokeFunction('convertToInteractive',\n",
              "                                                     [key], {});\n",
              "          if (!dataTable) return;\n",
              "\n",
              "          const docLinkHtml = 'Like what you see? Visit the ' +\n",
              "            '<a target=\"_blank\" href=https://colab.research.google.com/notebooks/data_table.ipynb>data table notebook</a>'\n",
              "            + ' to learn more about interactive tables.';\n",
              "          element.innerHTML = '';\n",
              "          dataTable['output_type'] = 'display_data';\n",
              "          await google.colab.output.renderOutput(dataTable, element);\n",
              "          const docLink = document.createElement('div');\n",
              "          docLink.innerHTML = docLinkHtml;\n",
              "          element.appendChild(docLink);\n",
              "        }\n",
              "      </script>\n",
              "    </div>\n",
              "  </div>\n",
              "  "
            ]
          },
          "metadata": {},
          "execution_count": 50
        }
      ],
      "source": [
        "models"
      ]
    },
    {
      "cell_type": "code",
      "execution_count": 51,
      "id": "9a9ad88e",
      "metadata": {
        "scrolled": true,
        "colab": {
          "base_uri": "https://localhost:8080/",
          "height": 206
        },
        "id": "9a9ad88e",
        "outputId": "a55ed8f4-2311-4d32-c94f-8d029a6e82c5"
      },
      "outputs": [
        {
          "output_type": "execute_result",
          "data": {
            "text/plain": [
              "                      Model  R2 Score  RMSE Value\n",
              "0         Linear Regression  0.848165    3.729873\n",
              "4  Support Vector Regressor  0.863519    3.536261\n",
              "2             Random Forest  0.971620    1.612541\n",
              "1             Decision Tree  0.972902    1.575712\n",
              "3         Gradient Boosting  0.974838    1.518388"
            ],
            "text/html": [
              "\n",
              "  <div id=\"df-89c08b35-e295-4956-a0d8-c8afaa916e9d\">\n",
              "    <div class=\"colab-df-container\">\n",
              "      <div>\n",
              "<style scoped>\n",
              "    .dataframe tbody tr th:only-of-type {\n",
              "        vertical-align: middle;\n",
              "    }\n",
              "\n",
              "    .dataframe tbody tr th {\n",
              "        vertical-align: top;\n",
              "    }\n",
              "\n",
              "    .dataframe thead th {\n",
              "        text-align: right;\n",
              "    }\n",
              "</style>\n",
              "<table border=\"1\" class=\"dataframe\">\n",
              "  <thead>\n",
              "    <tr style=\"text-align: right;\">\n",
              "      <th></th>\n",
              "      <th>Model</th>\n",
              "      <th>R2 Score</th>\n",
              "      <th>RMSE Value</th>\n",
              "    </tr>\n",
              "  </thead>\n",
              "  <tbody>\n",
              "    <tr>\n",
              "      <th>0</th>\n",
              "      <td>Linear Regression</td>\n",
              "      <td>0.848165</td>\n",
              "      <td>3.729873</td>\n",
              "    </tr>\n",
              "    <tr>\n",
              "      <th>4</th>\n",
              "      <td>Support Vector Regressor</td>\n",
              "      <td>0.863519</td>\n",
              "      <td>3.536261</td>\n",
              "    </tr>\n",
              "    <tr>\n",
              "      <th>2</th>\n",
              "      <td>Random Forest</td>\n",
              "      <td>0.971620</td>\n",
              "      <td>1.612541</td>\n",
              "    </tr>\n",
              "    <tr>\n",
              "      <th>1</th>\n",
              "      <td>Decision Tree</td>\n",
              "      <td>0.972902</td>\n",
              "      <td>1.575712</td>\n",
              "    </tr>\n",
              "    <tr>\n",
              "      <th>3</th>\n",
              "      <td>Gradient Boosting</td>\n",
              "      <td>0.974838</td>\n",
              "      <td>1.518388</td>\n",
              "    </tr>\n",
              "  </tbody>\n",
              "</table>\n",
              "</div>\n",
              "      <button class=\"colab-df-convert\" onclick=\"convertToInteractive('df-89c08b35-e295-4956-a0d8-c8afaa916e9d')\"\n",
              "              title=\"Convert this dataframe to an interactive table.\"\n",
              "              style=\"display:none;\">\n",
              "        \n",
              "  <svg xmlns=\"http://www.w3.org/2000/svg\" height=\"24px\"viewBox=\"0 0 24 24\"\n",
              "       width=\"24px\">\n",
              "    <path d=\"M0 0h24v24H0V0z\" fill=\"none\"/>\n",
              "    <path d=\"M18.56 5.44l.94 2.06.94-2.06 2.06-.94-2.06-.94-.94-2.06-.94 2.06-2.06.94zm-11 1L8.5 8.5l.94-2.06 2.06-.94-2.06-.94L8.5 2.5l-.94 2.06-2.06.94zm10 10l.94 2.06.94-2.06 2.06-.94-2.06-.94-.94-2.06-.94 2.06-2.06.94z\"/><path d=\"M17.41 7.96l-1.37-1.37c-.4-.4-.92-.59-1.43-.59-.52 0-1.04.2-1.43.59L10.3 9.45l-7.72 7.72c-.78.78-.78 2.05 0 2.83L4 21.41c.39.39.9.59 1.41.59.51 0 1.02-.2 1.41-.59l7.78-7.78 2.81-2.81c.8-.78.8-2.07 0-2.86zM5.41 20L4 18.59l7.72-7.72 1.47 1.35L5.41 20z\"/>\n",
              "  </svg>\n",
              "      </button>\n",
              "      \n",
              "  <style>\n",
              "    .colab-df-container {\n",
              "      display:flex;\n",
              "      flex-wrap:wrap;\n",
              "      gap: 12px;\n",
              "    }\n",
              "\n",
              "    .colab-df-convert {\n",
              "      background-color: #E8F0FE;\n",
              "      border: none;\n",
              "      border-radius: 50%;\n",
              "      cursor: pointer;\n",
              "      display: none;\n",
              "      fill: #1967D2;\n",
              "      height: 32px;\n",
              "      padding: 0 0 0 0;\n",
              "      width: 32px;\n",
              "    }\n",
              "\n",
              "    .colab-df-convert:hover {\n",
              "      background-color: #E2EBFA;\n",
              "      box-shadow: 0px 1px 2px rgba(60, 64, 67, 0.3), 0px 1px 3px 1px rgba(60, 64, 67, 0.15);\n",
              "      fill: #174EA6;\n",
              "    }\n",
              "\n",
              "    [theme=dark] .colab-df-convert {\n",
              "      background-color: #3B4455;\n",
              "      fill: #D2E3FC;\n",
              "    }\n",
              "\n",
              "    [theme=dark] .colab-df-convert:hover {\n",
              "      background-color: #434B5C;\n",
              "      box-shadow: 0px 1px 3px 1px rgba(0, 0, 0, 0.15);\n",
              "      filter: drop-shadow(0px 1px 2px rgba(0, 0, 0, 0.3));\n",
              "      fill: #FFFFFF;\n",
              "    }\n",
              "  </style>\n",
              "\n",
              "      <script>\n",
              "        const buttonEl =\n",
              "          document.querySelector('#df-89c08b35-e295-4956-a0d8-c8afaa916e9d button.colab-df-convert');\n",
              "        buttonEl.style.display =\n",
              "          google.colab.kernel.accessAllowed ? 'block' : 'none';\n",
              "\n",
              "        async function convertToInteractive(key) {\n",
              "          const element = document.querySelector('#df-89c08b35-e295-4956-a0d8-c8afaa916e9d');\n",
              "          const dataTable =\n",
              "            await google.colab.kernel.invokeFunction('convertToInteractive',\n",
              "                                                     [key], {});\n",
              "          if (!dataTable) return;\n",
              "\n",
              "          const docLinkHtml = 'Like what you see? Visit the ' +\n",
              "            '<a target=\"_blank\" href=https://colab.research.google.com/notebooks/data_table.ipynb>data table notebook</a>'\n",
              "            + ' to learn more about interactive tables.';\n",
              "          element.innerHTML = '';\n",
              "          dataTable['output_type'] = 'display_data';\n",
              "          await google.colab.output.renderOutput(dataTable, element);\n",
              "          const docLink = document.createElement('div');\n",
              "          docLink.innerHTML = docLinkHtml;\n",
              "          element.appendChild(docLink);\n",
              "        }\n",
              "      </script>\n",
              "    </div>\n",
              "  </div>\n",
              "  "
            ]
          },
          "metadata": {},
          "execution_count": 51
        }
      ],
      "source": [
        "models.sort_values(by=\"R2 Score\")"
      ]
    },
    {
      "cell_type": "code",
      "execution_count": 52,
      "id": "5ddb3be9",
      "metadata": {
        "colab": {
          "base_uri": "https://localhost:8080/",
          "height": 206
        },
        "id": "5ddb3be9",
        "outputId": "82bafd42-f7f4-4b86-dd51-cd5c60551bd1"
      },
      "outputs": [
        {
          "output_type": "execute_result",
          "data": {
            "text/plain": [
              "                      Model  R2 Score  RMSE Value\n",
              "3         Gradient Boosting  0.974838    1.518388\n",
              "1             Decision Tree  0.972902    1.575712\n",
              "2             Random Forest  0.971620    1.612541\n",
              "4  Support Vector Regressor  0.863519    3.536261\n",
              "0         Linear Regression  0.848165    3.729873"
            ],
            "text/html": [
              "\n",
              "  <div id=\"df-7e9d4947-5d32-47dd-9c5b-7e28f6f7ebd3\">\n",
              "    <div class=\"colab-df-container\">\n",
              "      <div>\n",
              "<style scoped>\n",
              "    .dataframe tbody tr th:only-of-type {\n",
              "        vertical-align: middle;\n",
              "    }\n",
              "\n",
              "    .dataframe tbody tr th {\n",
              "        vertical-align: top;\n",
              "    }\n",
              "\n",
              "    .dataframe thead th {\n",
              "        text-align: right;\n",
              "    }\n",
              "</style>\n",
              "<table border=\"1\" class=\"dataframe\">\n",
              "  <thead>\n",
              "    <tr style=\"text-align: right;\">\n",
              "      <th></th>\n",
              "      <th>Model</th>\n",
              "      <th>R2 Score</th>\n",
              "      <th>RMSE Value</th>\n",
              "    </tr>\n",
              "  </thead>\n",
              "  <tbody>\n",
              "    <tr>\n",
              "      <th>3</th>\n",
              "      <td>Gradient Boosting</td>\n",
              "      <td>0.974838</td>\n",
              "      <td>1.518388</td>\n",
              "    </tr>\n",
              "    <tr>\n",
              "      <th>1</th>\n",
              "      <td>Decision Tree</td>\n",
              "      <td>0.972902</td>\n",
              "      <td>1.575712</td>\n",
              "    </tr>\n",
              "    <tr>\n",
              "      <th>2</th>\n",
              "      <td>Random Forest</td>\n",
              "      <td>0.971620</td>\n",
              "      <td>1.612541</td>\n",
              "    </tr>\n",
              "    <tr>\n",
              "      <th>4</th>\n",
              "      <td>Support Vector Regressor</td>\n",
              "      <td>0.863519</td>\n",
              "      <td>3.536261</td>\n",
              "    </tr>\n",
              "    <tr>\n",
              "      <th>0</th>\n",
              "      <td>Linear Regression</td>\n",
              "      <td>0.848165</td>\n",
              "      <td>3.729873</td>\n",
              "    </tr>\n",
              "  </tbody>\n",
              "</table>\n",
              "</div>\n",
              "      <button class=\"colab-df-convert\" onclick=\"convertToInteractive('df-7e9d4947-5d32-47dd-9c5b-7e28f6f7ebd3')\"\n",
              "              title=\"Convert this dataframe to an interactive table.\"\n",
              "              style=\"display:none;\">\n",
              "        \n",
              "  <svg xmlns=\"http://www.w3.org/2000/svg\" height=\"24px\"viewBox=\"0 0 24 24\"\n",
              "       width=\"24px\">\n",
              "    <path d=\"M0 0h24v24H0V0z\" fill=\"none\"/>\n",
              "    <path d=\"M18.56 5.44l.94 2.06.94-2.06 2.06-.94-2.06-.94-.94-2.06-.94 2.06-2.06.94zm-11 1L8.5 8.5l.94-2.06 2.06-.94-2.06-.94L8.5 2.5l-.94 2.06-2.06.94zm10 10l.94 2.06.94-2.06 2.06-.94-2.06-.94-.94-2.06-.94 2.06-2.06.94z\"/><path d=\"M17.41 7.96l-1.37-1.37c-.4-.4-.92-.59-1.43-.59-.52 0-1.04.2-1.43.59L10.3 9.45l-7.72 7.72c-.78.78-.78 2.05 0 2.83L4 21.41c.39.39.9.59 1.41.59.51 0 1.02-.2 1.41-.59l7.78-7.78 2.81-2.81c.8-.78.8-2.07 0-2.86zM5.41 20L4 18.59l7.72-7.72 1.47 1.35L5.41 20z\"/>\n",
              "  </svg>\n",
              "      </button>\n",
              "      \n",
              "  <style>\n",
              "    .colab-df-container {\n",
              "      display:flex;\n",
              "      flex-wrap:wrap;\n",
              "      gap: 12px;\n",
              "    }\n",
              "\n",
              "    .colab-df-convert {\n",
              "      background-color: #E8F0FE;\n",
              "      border: none;\n",
              "      border-radius: 50%;\n",
              "      cursor: pointer;\n",
              "      display: none;\n",
              "      fill: #1967D2;\n",
              "      height: 32px;\n",
              "      padding: 0 0 0 0;\n",
              "      width: 32px;\n",
              "    }\n",
              "\n",
              "    .colab-df-convert:hover {\n",
              "      background-color: #E2EBFA;\n",
              "      box-shadow: 0px 1px 2px rgba(60, 64, 67, 0.3), 0px 1px 3px 1px rgba(60, 64, 67, 0.15);\n",
              "      fill: #174EA6;\n",
              "    }\n",
              "\n",
              "    [theme=dark] .colab-df-convert {\n",
              "      background-color: #3B4455;\n",
              "      fill: #D2E3FC;\n",
              "    }\n",
              "\n",
              "    [theme=dark] .colab-df-convert:hover {\n",
              "      background-color: #434B5C;\n",
              "      box-shadow: 0px 1px 3px 1px rgba(0, 0, 0, 0.15);\n",
              "      filter: drop-shadow(0px 1px 2px rgba(0, 0, 0, 0.3));\n",
              "      fill: #FFFFFF;\n",
              "    }\n",
              "  </style>\n",
              "\n",
              "      <script>\n",
              "        const buttonEl =\n",
              "          document.querySelector('#df-7e9d4947-5d32-47dd-9c5b-7e28f6f7ebd3 button.colab-df-convert');\n",
              "        buttonEl.style.display =\n",
              "          google.colab.kernel.accessAllowed ? 'block' : 'none';\n",
              "\n",
              "        async function convertToInteractive(key) {\n",
              "          const element = document.querySelector('#df-7e9d4947-5d32-47dd-9c5b-7e28f6f7ebd3');\n",
              "          const dataTable =\n",
              "            await google.colab.kernel.invokeFunction('convertToInteractive',\n",
              "                                                     [key], {});\n",
              "          if (!dataTable) return;\n",
              "\n",
              "          const docLinkHtml = 'Like what you see? Visit the ' +\n",
              "            '<a target=\"_blank\" href=https://colab.research.google.com/notebooks/data_table.ipynb>data table notebook</a>'\n",
              "            + ' to learn more about interactive tables.';\n",
              "          element.innerHTML = '';\n",
              "          dataTable['output_type'] = 'display_data';\n",
              "          await google.colab.output.renderOutput(dataTable, element);\n",
              "          const docLink = document.createElement('div');\n",
              "          docLink.innerHTML = docLinkHtml;\n",
              "          element.appendChild(docLink);\n",
              "        }\n",
              "      </script>\n",
              "    </div>\n",
              "  </div>\n",
              "  "
            ]
          },
          "metadata": {},
          "execution_count": 52
        }
      ],
      "source": [
        "models.sort_values(by=\"RMSE Value\")"
      ]
    },
    {
      "cell_type": "markdown",
      "id": "b09a817c",
      "metadata": {
        "id": "b09a817c"
      },
      "source": [
        "So according to RMSE, we can say that Gradient Boosting is better to predict Cooling Load followed by Decision Trees and Random Forest."
      ]
    },
    {
      "cell_type": "markdown",
      "id": "8b0f90cc",
      "metadata": {
        "id": "8b0f90cc"
      },
      "source": [
        "# For Heating Load(Y1)"
      ]
    },
    {
      "cell_type": "code",
      "execution_count": 53,
      "id": "55e9fad3",
      "metadata": {
        "colab": {
          "base_uri": "https://localhost:8080/"
        },
        "id": "55e9fad3",
        "outputId": "4bec6b16-b204-4df9-fbef-9702d95990d9"
      },
      "outputs": [
        {
          "output_type": "stream",
          "name": "stdout",
          "text": [
            "(768, 8)   (768,)\n"
          ]
        }
      ],
      "source": [
        "# Now we split our model into X and Y parts to finally predict the results using several algorithms.\n",
        "\n",
        "X=data[data.columns[:8]]  \n",
        "Y=data['Y1']   #Dependent attribute of heating load\n",
        "print(X.shape,' ',Y.shape)"
      ]
    },
    {
      "cell_type": "code",
      "execution_count": 54,
      "id": "cd330039",
      "metadata": {
        "colab": {
          "base_uri": "https://localhost:8080/"
        },
        "id": "cd330039",
        "outputId": "da0aa955-8886-41f0-f9f1-41808ff5301c"
      },
      "outputs": [
        {
          "output_type": "stream",
          "name": "stdout",
          "text": [
            "Number of Features:  3\n",
            "Selected Features:  [False  True False  True  True False False False]\n",
            "Feature Ranking:  [4 1 3 1 1 6 2 5]\n"
          ]
        }
      ],
      "source": [
        "#Feature Selection\n",
        "model = ExtraTreesRegressor()\n",
        "rfe = RFE(model, n_features_to_select=3)\n",
        "fit = rfe.fit(X, Y)\n",
        "\n",
        "print(\"Number of Features: \", fit.n_features_)\n",
        "print(\"Selected Features: \", fit.support_)\n",
        "print(\"Feature Ranking: \", fit.ranking_) "
      ]
    },
    {
      "cell_type": "markdown",
      "id": "6e4909aa",
      "metadata": {
        "id": "6e4909aa"
      },
      "source": [
        "'surface_area', 'roof_area' and 'overall_height' were top 3 selected features/feature combination for predicting 'heating_load' using Recursive Feature Elimination, the 2nd and 3rd selected features were atually among the attributes with the highest correlation with the 'heating_load'"
      ]
    },
    {
      "cell_type": "markdown",
      "id": "5a72b70a",
      "metadata": {
        "id": "5a72b70a"
      },
      "source": [
        "## Linear Regression"
      ]
    },
    {
      "cell_type": "code",
      "execution_count": 55,
      "id": "934ad891",
      "metadata": {
        "colab": {
          "base_uri": "https://localhost:8080/"
        },
        "id": "934ad891",
        "outputId": "18dffc1f-8835-44ca-8aa3-173942a3c193"
      },
      "outputs": [
        {
          "output_type": "execute_result",
          "data": {
            "text/plain": [
              "LinearRegression()"
            ]
          },
          "metadata": {},
          "execution_count": 55
        }
      ],
      "source": [
        "from sklearn.linear_model import LinearRegression  # fitting model\n",
        "new_model_hl=LinearRegression().fit(Xnew_train,ynew_train.Y1)\n",
        "new_model_hl"
      ]
    },
    {
      "cell_type": "code",
      "execution_count": 56,
      "id": "639ecd95",
      "metadata": {
        "id": "639ecd95"
      },
      "outputs": [],
      "source": [
        "pred_val_hl = new_model_hl.predict(Xnew_test)"
      ]
    },
    {
      "cell_type": "code",
      "execution_count": 57,
      "id": "fe55c91e",
      "metadata": {
        "colab": {
          "base_uri": "https://localhost:8080/",
          "height": 298
        },
        "id": "fe55c91e",
        "outputId": "52788101-569e-48fb-b09c-24ca8ba15fc3"
      },
      "outputs": [
        {
          "output_type": "execute_result",
          "data": {
            "text/plain": [
              "Text(0, 0.5, 'Predicted_values')"
            ]
          },
          "metadata": {},
          "execution_count": 57
        },
        {
          "output_type": "display_data",
          "data": {
            "text/plain": [
              "<Figure size 432x288 with 1 Axes>"
            ],
            "image/png": "[encoded data removed]"
          },
          "metadata": {
            "needs_background": "light"
          }
        }
      ],
      "source": [
        "# plot a scatter plot\n",
        "plt.scatter(ynew_test.Y1,pred_val_cl,c=\"r\");plt.xlabel(\"Actual_values\");plt.ylabel(\"Predicted_values\")"
      ]
    },
    {
      "cell_type": "code",
      "execution_count": 58,
      "metadata": {
        "id": "MAotE3Rvr21E"
      },
      "outputs": [],
      "source": [
        "m,b=np.polyfit(ynew_test.Y1,pred_val_hl,1)"
      ],
      "id": "MAotE3Rvr21E"
    },
    {
      "cell_type": "code",
      "execution_count": 59,
      "metadata": {
        "colab": {
          "base_uri": "https://localhost:8080/",
          "height": 298
        },
        "id": "J_81If59r21E",
        "outputId": "d9396aa0-580f-49c1-a972-2a1a70fbe088"
      },
      "outputs": [
        {
          "output_type": "execute_result",
          "data": {
            "text/plain": [
              "[<matplotlib.lines.Line2D at 0x7fca5e606450>]"
            ]
          },
          "metadata": {},
          "execution_count": 59
        },
        {
          "output_type": "display_data",
          "data": {
            "text/plain": [
              "<Figure size 432x288 with 1 Axes>"
            ],
            "image/png": "[encoded data removed]"
          },
          "metadata": {
            "needs_background": "light"
          }
        }
      ],
      "source": [
        "plt.scatter(ynew_test.Y1,pred_val_hl,c=\"r\");plt.xlabel(\"Actual_values\");plt.ylabel(\"Predicted_values\") ;plt.plot(data.Y2,m*data.Y2+b)"
      ],
      "id": "J_81If59r21E"
    },
    {
      "cell_type": "code",
      "execution_count": 60,
      "metadata": {
        "colab": {
          "base_uri": "https://localhost:8080/"
        },
        "id": "OsUnpFpUr21F",
        "outputId": "a2cd9cad-ea6b-4f5b-a494-c27475791dde"
      },
      "outputs": [
        {
          "output_type": "execute_result",
          "data": {
            "text/plain": [
              "0.8799764339685737"
            ]
          },
          "metadata": {},
          "execution_count": 60
        }
      ],
      "source": [
        "# Calculating R2 score \n",
        "from sklearn.metrics import r2_score\n",
        "R2_LR_hl=np.mean(r2_score(ynew_test.Y1,pred_val_hl))   #R squared score of complete Y\n",
        "R2_LR_hl"
      ],
      "id": "OsUnpFpUr21F"
    },
    {
      "cell_type": "code",
      "execution_count": 61,
      "metadata": {
        "colab": {
          "base_uri": "https://localhost:8080/"
        },
        "id": "kIGuBIsBr21F",
        "outputId": "f58a9172-ce3d-4c7f-a8cd-b319b841d970"
      },
      "outputs": [
        {
          "output_type": "execute_result",
          "data": {
            "text/plain": [
              "3.4994583645268222"
            ]
          },
          "metadata": {},
          "execution_count": 61
        }
      ],
      "source": [
        "# RMSE for Cooling load\n",
        "from sklearn.metrics import mean_squared_error\n",
        "\n",
        "from math import sqrt\n",
        "rmse_lr_hl = sqrt(mean_squared_error(ynew_test.Y1,pred_val_hl))\n",
        "rmse_lr_hl"
      ],
      "id": "kIGuBIsBr21F"
    },
    {
      "cell_type": "markdown",
      "metadata": {
        "id": "H8svwcwzr21F"
      },
      "source": [
        "## Decision Tree"
      ],
      "id": "H8svwcwzr21F"
    },
    {
      "cell_type": "code",
      "execution_count": 62,
      "metadata": {
        "colab": {
          "base_uri": "https://localhost:8080/"
        },
        "id": "P8umP8ger21F",
        "outputId": "c34db582-95e8-44a7-a372-f63c7113c669"
      },
      "outputs": [
        {
          "output_type": "execute_result",
          "data": {
            "text/plain": [
              "0.9962275049437129"
            ]
          },
          "metadata": {},
          "execution_count": 62
        }
      ],
      "source": [
        "from sklearn.tree import DecisionTreeRegressor\n",
        "dt_model = DecisionTreeRegressor(random_state=23)\n",
        "dt_model.fit(Xnew_train, ynew_train.Y1)\n",
        "y_pred11 = dt_model.predict(Xnew_test)\n",
        "R2_dt = np.mean(r2_score(ynew_test.Y1, y_pred11))\n",
        "\n",
        "R2_dt"
      ],
      "id": "P8umP8ger21F"
    },
    {
      "cell_type": "code",
      "execution_count": 63,
      "metadata": {
        "colab": {
          "base_uri": "https://localhost:8080/"
        },
        "id": "J531omYer21G",
        "outputId": "40d5d907-811f-4489-d93c-489802c3f793"
      },
      "outputs": [
        {
          "output_type": "execute_result",
          "data": {
            "text/plain": [
              "0.6204144544077737"
            ]
          },
          "metadata": {},
          "execution_count": 63
        }
      ],
      "source": [
        "from sklearn.metrics import mean_squared_error\n",
        "from math import sqrt\n",
        "rmse_dt = sqrt(mean_squared_error(ynew_test.Y1, y_pred11))\n",
        "\n",
        "rmse_dt"
      ],
      "id": "J531omYer21G"
    },
    {
      "cell_type": "markdown",
      "metadata": {
        "id": "14KUvQ80r21H"
      },
      "source": [
        "## Gradient Boosting"
      ],
      "id": "14KUvQ80r21H"
    },
    {
      "cell_type": "code",
      "execution_count": 64,
      "metadata": {
        "colab": {
          "base_uri": "https://localhost:8080/"
        },
        "id": "I3HfjMgPr21H",
        "outputId": "9c04f5d4-d5ac-4b78-994b-468e910c9bb6"
      },
      "outputs": [
        {
          "output_type": "execute_result",
          "data": {
            "text/plain": [
              "0.9972433033914496"
            ]
          },
          "metadata": {},
          "execution_count": 64
        }
      ],
      "source": [
        "from sklearn.ensemble import GradientBoostingRegressor\n",
        "GB_model= GradientBoostingRegressor()\n",
        "GB_model.fit(Xnew_train, ynew_train.Y1)\n",
        "GB_model.score(Xnew_test,ynew_test.Y1)"
      ],
      "id": "I3HfjMgPr21H"
    },
    {
      "cell_type": "code",
      "execution_count": 65,
      "metadata": {
        "colab": {
          "base_uri": "https://localhost:8080/"
        },
        "id": "KGqW-6jRr21H",
        "outputId": "fcbc3af5-3ec1-4308-d061-7f50f71acad8"
      },
      "outputs": [
        {
          "output_type": "execute_result",
          "data": {
            "text/plain": [
              "0.9972433033914496"
            ]
          },
          "metadata": {},
          "execution_count": 65
        }
      ],
      "source": [
        "y_pred12 = GB_model.predict(Xnew_test)\n",
        "R2_GB = np.mean(r2_score(ynew_test.Y1, y_pred12))\n",
        "R2_GB"
      ],
      "id": "KGqW-6jRr21H"
    },
    {
      "cell_type": "code",
      "execution_count": 66,
      "metadata": {
        "colab": {
          "base_uri": "https://localhost:8080/"
        },
        "id": "JXtEl4TTr21H",
        "outputId": "35014caa-fa10-4240-bd77-552833fc4194"
      },
      "outputs": [
        {
          "output_type": "execute_result",
          "data": {
            "text/plain": [
              "0.5303493656898146"
            ]
          },
          "metadata": {},
          "execution_count": 66
        }
      ],
      "source": [
        "rmse_GB = sqrt(mean_squared_error(ynew_test.Y1, y_pred12))\n",
        "\n",
        "rmse_GB"
      ],
      "id": "JXtEl4TTr21H"
    },
    {
      "cell_type": "markdown",
      "metadata": {
        "id": "CGfJgzYbr21I"
      },
      "source": [
        "## Random Forest"
      ],
      "id": "CGfJgzYbr21I"
    },
    {
      "cell_type": "code",
      "execution_count": 67,
      "metadata": {
        "colab": {
          "base_uri": "https://localhost:8080/"
        },
        "id": "kkmwZlwgr21I",
        "outputId": "04fde329-9e19-41ff-a4ab-7937fb201c4b"
      },
      "outputs": [
        {
          "output_type": "execute_result",
          "data": {
            "text/plain": [
              "0.9972143322922021"
            ]
          },
          "metadata": {},
          "execution_count": 67
        }
      ],
      "source": [
        "from sklearn.ensemble import RandomForestRegressor\n",
        "rf_model = RandomForestRegressor(random_state=123)\n",
        "rf_model.fit(Xnew_train, ynew_train.Y1)\n",
        "y_pred13 = rf_model.predict(Xnew_test)\n",
        "R2_rf = np.mean(r2_score(ynew_test.Y1, y_pred13))\n",
        "R2_rf"
      ],
      "id": "kkmwZlwgr21I"
    },
    {
      "cell_type": "code",
      "execution_count": 68,
      "metadata": {
        "colab": {
          "base_uri": "https://localhost:8080/"
        },
        "id": "FHIDp79dr21I",
        "outputId": "0bc709b2-5f86-435c-cd4e-ef312fa14a9f"
      },
      "outputs": [
        {
          "output_type": "execute_result",
          "data": {
            "text/plain": [
              "0.5331288964990126"
            ]
          },
          "metadata": {},
          "execution_count": 68
        }
      ],
      "source": [
        "rmse_rf = sqrt(mean_squared_error(ynew_test.Y1, y_pred13))\n",
        "\n",
        "rmse_rf"
      ],
      "id": "FHIDp79dr21I"
    },
    {
      "cell_type": "markdown",
      "metadata": {
        "id": "nJPDtNP8r21I"
      },
      "source": [
        "## Support Vector Regressor"
      ],
      "id": "nJPDtNP8r21I"
    },
    {
      "cell_type": "code",
      "execution_count": 69,
      "metadata": {
        "colab": {
          "base_uri": "https://localhost:8080/"
        },
        "id": "XMN9wln1r21J",
        "outputId": "786988f2-0277-4fd7-9816-d9a59777f6a9"
      },
      "outputs": [
        {
          "output_type": "execute_result",
          "data": {
            "text/plain": [
              "0.879972537497932"
            ]
          },
          "metadata": {},
          "execution_count": 69
        }
      ],
      "source": [
        "from sklearn.svm import SVR\n",
        "model_svr=SVR().fit(Xnew_train,ynew_train.Y1)\n",
        "model_svr.score(Xnew_test,ynew_test.Y1)"
      ],
      "id": "XMN9wln1r21J"
    },
    {
      "cell_type": "code",
      "execution_count": 70,
      "metadata": {
        "colab": {
          "base_uri": "https://localhost:8080/"
        },
        "id": "1EgHzzkcr21J",
        "outputId": "831b69cf-f0ed-44e1-efdb-157e80fde06d"
      },
      "outputs": [
        {
          "output_type": "execute_result",
          "data": {
            "text/plain": [
              "0.879972537497932"
            ]
          },
          "metadata": {},
          "execution_count": 70
        }
      ],
      "source": [
        "y_pred14 = model_svr.predict(Xnew_test)\n",
        "R2_svr = np.mean(r2_score(ynew_test.Y1, y_pred14))\n",
        "R2_svr"
      ],
      "id": "1EgHzzkcr21J"
    },
    {
      "cell_type": "code",
      "execution_count": 71,
      "metadata": {
        "colab": {
          "base_uri": "https://localhost:8080/"
        },
        "id": "ppWDFQ1gr21J",
        "outputId": "32c84ea6-39ac-4ad1-ae8e-4e5aaa9c3977"
      },
      "outputs": [
        {
          "output_type": "execute_result",
          "data": {
            "text/plain": [
              "3.4995151676470977"
            ]
          },
          "metadata": {},
          "execution_count": 71
        }
      ],
      "source": [
        "rmse_svr = sqrt(mean_squared_error(ynew_test.Y1, y_pred14))\n",
        "\n",
        "rmse_svr"
      ],
      "id": "ppWDFQ1gr21J"
    },
    {
      "cell_type": "code",
      "execution_count": 72,
      "metadata": {
        "id": "RHQXQm2Or21J"
      },
      "outputs": [],
      "source": [
        "#comparing models based on rmse value\n",
        "models= pd.DataFrame({ \n",
        "\"Model\" : [\"Linear Regression\",\"Decision Tree\",\"Random Forest\",\"Gradient Boosting\",\"Support Vector Regressor\"],\n",
        "\"R2 Score\" : [R2_LR_hl,R2_dt,R2_rf,R2_GB,R2_svr],\n",
        "\"RMSE Value\" : [rmse_lr_hl,rmse_dt,rmse_rf,rmse_GB,rmse_svr]\n",
        "\n",
        "})"
      ],
      "id": "RHQXQm2Or21J"
    },
    {
      "cell_type": "code",
      "execution_count": 73,
      "metadata": {
        "colab": {
          "base_uri": "https://localhost:8080/",
          "height": 206
        },
        "id": "GU6vnpgir21K",
        "outputId": "0e7c8d93-8dc9-4c9d-a15b-a03487818b2f"
      },
      "outputs": [
        {
          "output_type": "execute_result",
          "data": {
            "text/plain": [
              "                      Model  R2 Score  RMSE Value\n",
              "0         Linear Regression  0.879976    3.499458\n",
              "1             Decision Tree  0.996228    0.620414\n",
              "2             Random Forest  0.997214    0.533129\n",
              "3         Gradient Boosting  0.997243    0.530349\n",
              "4  Support Vector Regressor  0.879973    3.499515"
            ],
            "text/html": [
              "\n",
              "  <div id=\"df-67fa09e8-18aa-4b64-8c4c-a82426136a8f\">\n",
              "    <div class=\"colab-df-container\">\n",
              "      <div>\n",
              "<style scoped>\n",
              "    .dataframe tbody tr th:only-of-type {\n",
              "        vertical-align: middle;\n",
              "    }\n",
              "\n",
              "    .dataframe tbody tr th {\n",
              "        vertical-align: top;\n",
              "    }\n",
              "\n",
              "    .dataframe thead th {\n",
              "        text-align: right;\n",
              "    }\n",
              "</style>\n",
              "<table border=\"1\" class=\"dataframe\">\n",
              "  <thead>\n",
              "    <tr style=\"text-align: right;\">\n",
              "      <th></th>\n",
              "      <th>Model</th>\n",
              "      <th>R2 Score</th>\n",
              "      <th>RMSE Value</th>\n",
              "    </tr>\n",
              "  </thead>\n",
              "  <tbody>\n",
              "    <tr>\n",
              "      <th>0</th>\n",
              "      <td>Linear Regression</td>\n",
              "      <td>0.879976</td>\n",
              "      <td>3.499458</td>\n",
              "    </tr>\n",
              "    <tr>\n",
              "      <th>1</th>\n",
              "      <td>Decision Tree</td>\n",
              "      <td>0.996228</td>\n",
              "      <td>0.620414</td>\n",
              "    </tr>\n",
              "    <tr>\n",
              "      <th>2</th>\n",
              "      <td>Random Forest</td>\n",
              "      <td>0.997214</td>\n",
              "      <td>0.533129</td>\n",
              "    </tr>\n",
              "    <tr>\n",
              "      <th>3</th>\n",
              "      <td>Gradient Boosting</td>\n",
              "      <td>0.997243</td>\n",
              "      <td>0.530349</td>\n",
              "    </tr>\n",
              "    <tr>\n",
              "      <th>4</th>\n",
              "      <td>Support Vector Regressor</td>\n",
              "      <td>0.879973</td>\n",
              "      <td>3.499515</td>\n",
              "    </tr>\n",
              "  </tbody>\n",
              "</table>\n",
              "</div>\n",
              "      <button class=\"colab-df-convert\" onclick=\"convertToInteractive('df-67fa09e8-18aa-4b64-8c4c-a82426136a8f')\"\n",
              "              title=\"Convert this dataframe to an interactive table.\"\n",
              "              style=\"display:none;\">\n",
              "        \n",
              "  <svg xmlns=\"http://www.w3.org/2000/svg\" height=\"24px\"viewBox=\"0 0 24 24\"\n",
              "       width=\"24px\">\n",
              "    <path d=\"M0 0h24v24H0V0z\" fill=\"none\"/>\n",
              "    <path d=\"M18.56 5.44l.94 2.06.94-2.06 2.06-.94-2.06-.94-.94-2.06-.94 2.06-2.06.94zm-11 1L8.5 8.5l.94-2.06 2.06-.94-2.06-.94L8.5 2.5l-.94 2.06-2.06.94zm10 10l.94 2.06.94-2.06 2.06-.94-2.06-.94-.94-2.06-.94 2.06-2.06.94z\"/><path d=\"M17.41 7.96l-1.37-1.37c-.4-.4-.92-.59-1.43-.59-.52 0-1.04.2-1.43.59L10.3 9.45l-7.72 7.72c-.78.78-.78 2.05 0 2.83L4 21.41c.39.39.9.59 1.41.59.51 0 1.02-.2 1.41-.59l7.78-7.78 2.81-2.81c.8-.78.8-2.07 0-2.86zM5.41 20L4 18.59l7.72-7.72 1.47 1.35L5.41 20z\"/>\n",
              "  </svg>\n",
              "      </button>\n",
              "      \n",
              "  <style>\n",
              "    .colab-df-container {\n",
              "      display:flex;\n",
              "      flex-wrap:wrap;\n",
              "      gap: 12px;\n",
              "    }\n",
              "\n",
              "    .colab-df-convert {\n",
              "      background-color: #E8F0FE;\n",
              "      border: none;\n",
              "      border-radius: 50%;\n",
              "      cursor: pointer;\n",
              "      display: none;\n",
              "      fill: #1967D2;\n",
              "      height: 32px;\n",
              "      padding: 0 0 0 0;\n",
              "      width: 32px;\n",
              "    }\n",
              "\n",
              "    .colab-df-convert:hover {\n",
              "      background-color: #E2EBFA;\n",
              "      box-shadow: 0px 1px 2px rgba(60, 64, 67, 0.3), 0px 1px 3px 1px rgba(60, 64, 67, 0.15);\n",
              "      fill: #174EA6;\n",
              "    }\n",
              "\n",
              "    [theme=dark] .colab-df-convert {\n",
              "      background-color: #3B4455;\n",
              "      fill: #D2E3FC;\n",
              "    }\n",
              "\n",
              "    [theme=dark] .colab-df-convert:hover {\n",
              "      background-color: #434B5C;\n",
              "      box-shadow: 0px 1px 3px 1px rgba(0, 0, 0, 0.15);\n",
              "      filter: drop-shadow(0px 1px 2px rgba(0, 0, 0, 0.3));\n",
              "      fill: #FFFFFF;\n",
              "    }\n",
              "  </style>\n",
              "\n",
              "      <script>\n",
              "        const buttonEl =\n",
              "          document.querySelector('#df-67fa09e8-18aa-4b64-8c4c-a82426136a8f button.colab-df-convert');\n",
              "        buttonEl.style.display =\n",
              "          google.colab.kernel.accessAllowed ? 'block' : 'none';\n",
              "\n",
              "        async function convertToInteractive(key) {\n",
              "          const element = document.querySelector('#df-67fa09e8-18aa-4b64-8c4c-a82426136a8f');\n",
              "          const dataTable =\n",
              "            await google.colab.kernel.invokeFunction('convertToInteractive',\n",
              "                                                     [key], {});\n",
              "          if (!dataTable) return;\n",
              "\n",
              "          const docLinkHtml = 'Like what you see? Visit the ' +\n",
              "            '<a target=\"_blank\" href=https://colab.research.google.com/notebooks/data_table.ipynb>data table notebook</a>'\n",
              "            + ' to learn more about interactive tables.';\n",
              "          element.innerHTML = '';\n",
              "          dataTable['output_type'] = 'display_data';\n",
              "          await google.colab.output.renderOutput(dataTable, element);\n",
              "          const docLink = document.createElement('div');\n",
              "          docLink.innerHTML = docLinkHtml;\n",
              "          element.appendChild(docLink);\n",
              "        }\n",
              "      </script>\n",
              "    </div>\n",
              "  </div>\n",
              "  "
            ]
          },
          "metadata": {},
          "execution_count": 73
        }
      ],
      "source": [
        "models"
      ],
      "id": "GU6vnpgir21K"
    },
    {
      "cell_type": "code",
      "execution_count": 74,
      "id": "47bbaad8",
      "metadata": {
        "colab": {
          "base_uri": "https://localhost:8080/",
          "height": 206
        },
        "id": "47bbaad8",
        "outputId": "d05f5b7e-cb24-44de-ba02-8b5860f17282"
      },
      "outputs": [
        {
          "output_type": "execute_result",
          "data": {
            "text/plain": [
              "                      Model  R2 Score  RMSE Value\n",
              "4  Support Vector Regressor  0.879973    3.499515\n",
              "0         Linear Regression  0.879976    3.499458\n",
              "1             Decision Tree  0.996228    0.620414\n",
              "2             Random Forest  0.997214    0.533129\n",
              "3         Gradient Boosting  0.997243    0.530349"
            ],
            "text/html": [
              "\n",
              "  <div id=\"df-79dbc332-7dc8-49d0-beb3-daf8f534e15a\">\n",
              "    <div class=\"colab-df-container\">\n",
              "      <div>\n",
              "<style scoped>\n",
              "    .dataframe tbody tr th:only-of-type {\n",
              "        vertical-align: middle;\n",
              "    }\n",
              "\n",
              "    .dataframe tbody tr th {\n",
              "        vertical-align: top;\n",
              "    }\n",
              "\n",
              "    .dataframe thead th {\n",
              "        text-align: right;\n",
              "    }\n",
              "</style>\n",
              "<table border=\"1\" class=\"dataframe\">\n",
              "  <thead>\n",
              "    <tr style=\"text-align: right;\">\n",
              "      <th></th>\n",
              "      <th>Model</th>\n",
              "      <th>R2 Score</th>\n",
              "      <th>RMSE Value</th>\n",
              "    </tr>\n",
              "  </thead>\n",
              "  <tbody>\n",
              "    <tr>\n",
              "      <th>4</th>\n",
              "      <td>Support Vector Regressor</td>\n",
              "      <td>0.879973</td>\n",
              "      <td>3.499515</td>\n",
              "    </tr>\n",
              "    <tr>\n",
              "      <th>0</th>\n",
              "      <td>Linear Regression</td>\n",
              "      <td>0.879976</td>\n",
              "      <td>3.499458</td>\n",
              "    </tr>\n",
              "    <tr>\n",
              "      <th>1</th>\n",
              "      <td>Decision Tree</td>\n",
              "      <td>0.996228</td>\n",
              "      <td>0.620414</td>\n",
              "    </tr>\n",
              "    <tr>\n",
              "      <th>2</th>\n",
              "      <td>Random Forest</td>\n",
              "      <td>0.997214</td>\n",
              "      <td>0.533129</td>\n",
              "    </tr>\n",
              "    <tr>\n",
              "      <th>3</th>\n",
              "      <td>Gradient Boosting</td>\n",
              "      <td>0.997243</td>\n",
              "      <td>0.530349</td>\n",
              "    </tr>\n",
              "  </tbody>\n",
              "</table>\n",
              "</div>\n",
              "      <button class=\"colab-df-convert\" onclick=\"convertToInteractive('df-79dbc332-7dc8-49d0-beb3-daf8f534e15a')\"\n",
              "              title=\"Convert this dataframe to an interactive table.\"\n",
              "              style=\"display:none;\">\n",
              "        \n",
              "  <svg xmlns=\"http://www.w3.org/2000/svg\" height=\"24px\"viewBox=\"0 0 24 24\"\n",
              "       width=\"24px\">\n",
              "    <path d=\"M0 0h24v24H0V0z\" fill=\"none\"/>\n",
              "    <path d=\"M18.56 5.44l.94 2.06.94-2.06 2.06-.94-2.06-.94-.94-2.06-.94 2.06-2.06.94zm-11 1L8.5 8.5l.94-2.06 2.06-.94-2.06-.94L8.5 2.5l-.94 2.06-2.06.94zm10 10l.94 2.06.94-2.06 2.06-.94-2.06-.94-.94-2.06-.94 2.06-2.06.94z\"/><path d=\"M17.41 7.96l-1.37-1.37c-.4-.4-.92-.59-1.43-.59-.52 0-1.04.2-1.43.59L10.3 9.45l-7.72 7.72c-.78.78-.78 2.05 0 2.83L4 21.41c.39.39.9.59 1.41.59.51 0 1.02-.2 1.41-.59l7.78-7.78 2.81-2.81c.8-.78.8-2.07 0-2.86zM5.41 20L4 18.59l7.72-7.72 1.47 1.35L5.41 20z\"/>\n",
              "  </svg>\n",
              "      </button>\n",
              "      \n",
              "  <style>\n",
              "    .colab-df-container {\n",
              "      display:flex;\n",
              "      flex-wrap:wrap;\n",
              "      gap: 12px;\n",
              "    }\n",
              "\n",
              "    .colab-df-convert {\n",
              "      background-color: #E8F0FE;\n",
              "      border: none;\n",
              "      border-radius: 50%;\n",
              "      cursor: pointer;\n",
              "      display: none;\n",
              "      fill: #1967D2;\n",
              "      height: 32px;\n",
              "      padding: 0 0 0 0;\n",
              "      width: 32px;\n",
              "    }\n",
              "\n",
              "    .colab-df-convert:hover {\n",
              "      background-color: #E2EBFA;\n",
              "      box-shadow: 0px 1px 2px rgba(60, 64, 67, 0.3), 0px 1px 3px 1px rgba(60, 64, 67, 0.15);\n",
              "      fill: #174EA6;\n",
              "    }\n",
              "\n",
              "    [theme=dark] .colab-df-convert {\n",
              "      background-color: #3B4455;\n",
              "      fill: #D2E3FC;\n",
              "    }\n",
              "\n",
              "    [theme=dark] .colab-df-convert:hover {\n",
              "      background-color: #434B5C;\n",
              "      box-shadow: 0px 1px 3px 1px rgba(0, 0, 0, 0.15);\n",
              "      filter: drop-shadow(0px 1px 2px rgba(0, 0, 0, 0.3));\n",
              "      fill: #FFFFFF;\n",
              "    }\n",
              "  </style>\n",
              "\n",
              "      <script>\n",
              "        const buttonEl =\n",
              "          document.querySelector('#df-79dbc332-7dc8-49d0-beb3-daf8f534e15a button.colab-df-convert');\n",
              "        buttonEl.style.display =\n",
              "          google.colab.kernel.accessAllowed ? 'block' : 'none';\n",
              "\n",
              "        async function convertToInteractive(key) {\n",
              "          const element = document.querySelector('#df-79dbc332-7dc8-49d0-beb3-daf8f534e15a');\n",
              "          const dataTable =\n",
              "            await google.colab.kernel.invokeFunction('convertToInteractive',\n",
              "                                                     [key], {});\n",
              "          if (!dataTable) return;\n",
              "\n",
              "          const docLinkHtml = 'Like what you see? Visit the ' +\n",
              "            '<a target=\"_blank\" href=https://colab.research.google.com/notebooks/data_table.ipynb>data table notebook</a>'\n",
              "            + ' to learn more about interactive tables.';\n",
              "          element.innerHTML = '';\n",
              "          dataTable['output_type'] = 'display_data';\n",
              "          await google.colab.output.renderOutput(dataTable, element);\n",
              "          const docLink = document.createElement('div');\n",
              "          docLink.innerHTML = docLinkHtml;\n",
              "          element.appendChild(docLink);\n",
              "        }\n",
              "      </script>\n",
              "    </div>\n",
              "  </div>\n",
              "  "
            ]
          },
          "metadata": {},
          "execution_count": 74
        }
      ],
      "source": [
        "models.sort_values(by=\"R2 Score\")"
      ]
    },
    {
      "cell_type": "code",
      "execution_count": 75,
      "id": "f9ca8e2f",
      "metadata": {
        "colab": {
          "base_uri": "https://localhost:8080/",
          "height": 206
        },
        "id": "f9ca8e2f",
        "outputId": "a096916b-4b81-4725-aa8d-49d2abba70df"
      },
      "outputs": [
        {
          "output_type": "execute_result",
          "data": {
            "text/plain": [
              "                      Model  R2 Score  RMSE Value\n",
              "3         Gradient Boosting  0.997243    0.530349\n",
              "2             Random Forest  0.997214    0.533129\n",
              "1             Decision Tree  0.996228    0.620414\n",
              "0         Linear Regression  0.879976    3.499458\n",
              "4  Support Vector Regressor  0.879973    3.499515"
            ],
            "text/html": [
              "\n",
              "  <div id=\"df-a9840249-4afc-42f1-b9da-f6dc98051148\">\n",
              "    <div class=\"colab-df-container\">\n",
              "      <div>\n",
              "<style scoped>\n",
              "    .dataframe tbody tr th:only-of-type {\n",
              "        vertical-align: middle;\n",
              "    }\n",
              "\n",
              "    .dataframe tbody tr th {\n",
              "        vertical-align: top;\n",
              "    }\n",
              "\n",
              "    .dataframe thead th {\n",
              "        text-align: right;\n",
              "    }\n",
              "</style>\n",
              "<table border=\"1\" class=\"dataframe\">\n",
              "  <thead>\n",
              "    <tr style=\"text-align: right;\">\n",
              "      <th></th>\n",
              "      <th>Model</th>\n",
              "      <th>R2 Score</th>\n",
              "      <th>RMSE Value</th>\n",
              "    </tr>\n",
              "  </thead>\n",
              "  <tbody>\n",
              "    <tr>\n",
              "      <th>3</th>\n",
              "      <td>Gradient Boosting</td>\n",
              "      <td>0.997243</td>\n",
              "      <td>0.530349</td>\n",
              "    </tr>\n",
              "    <tr>\n",
              "      <th>2</th>\n",
              "      <td>Random Forest</td>\n",
              "      <td>0.997214</td>\n",
              "      <td>0.533129</td>\n",
              "    </tr>\n",
              "    <tr>\n",
              "      <th>1</th>\n",
              "      <td>Decision Tree</td>\n",
              "      <td>0.996228</td>\n",
              "      <td>0.620414</td>\n",
              "    </tr>\n",
              "    <tr>\n",
              "      <th>0</th>\n",
              "      <td>Linear Regression</td>\n",
              "      <td>0.879976</td>\n",
              "      <td>3.499458</td>\n",
              "    </tr>\n",
              "    <tr>\n",
              "      <th>4</th>\n",
              "      <td>Support Vector Regressor</td>\n",
              "      <td>0.879973</td>\n",
              "      <td>3.499515</td>\n",
              "    </tr>\n",
              "  </tbody>\n",
              "</table>\n",
              "</div>\n",
              "      <button class=\"colab-df-convert\" onclick=\"convertToInteractive('df-a9840249-4afc-42f1-b9da-f6dc98051148')\"\n",
              "              title=\"Convert this dataframe to an interactive table.\"\n",
              "              style=\"display:none;\">\n",
              "        \n",
              "  <svg xmlns=\"http://www.w3.org/2000/svg\" height=\"24px\"viewBox=\"0 0 24 24\"\n",
              "       width=\"24px\">\n",
              "    <path d=\"M0 0h24v24H0V0z\" fill=\"none\"/>\n",
              "    <path d=\"M18.56 5.44l.94 2.06.94-2.06 2.06-.94-2.06-.94-.94-2.06-.94 2.06-2.06.94zm-11 1L8.5 8.5l.94-2.06 2.06-.94-2.06-.94L8.5 2.5l-.94 2.06-2.06.94zm10 10l.94 2.06.94-2.06 2.06-.94-2.06-.94-.94-2.06-.94 2.06-2.06.94z\"/><path d=\"M17.41 7.96l-1.37-1.37c-.4-.4-.92-.59-1.43-.59-.52 0-1.04.2-1.43.59L10.3 9.45l-7.72 7.72c-.78.78-.78 2.05 0 2.83L4 21.41c.39.39.9.59 1.41.59.51 0 1.02-.2 1.41-.59l7.78-7.78 2.81-2.81c.8-.78.8-2.07 0-2.86zM5.41 20L4 18.59l7.72-7.72 1.47 1.35L5.41 20z\"/>\n",
              "  </svg>\n",
              "      </button>\n",
              "      \n",
              "  <style>\n",
              "    .colab-df-container {\n",
              "      display:flex;\n",
              "      flex-wrap:wrap;\n",
              "      gap: 12px;\n",
              "    }\n",
              "\n",
              "    .colab-df-convert {\n",
              "      background-color: #E8F0FE;\n",
              "      border: none;\n",
              "      border-radius: 50%;\n",
              "      cursor: pointer;\n",
              "      display: none;\n",
              "      fill: #1967D2;\n",
              "      height: 32px;\n",
              "      padding: 0 0 0 0;\n",
              "      width: 32px;\n",
              "    }\n",
              "\n",
              "    .colab-df-convert:hover {\n",
              "      background-color: #E2EBFA;\n",
              "      box-shadow: 0px 1px 2px rgba(60, 64, 67, 0.3), 0px 1px 3px 1px rgba(60, 64, 67, 0.15);\n",
              "      fill: #174EA6;\n",
              "    }\n",
              "\n",
              "    [theme=dark] .colab-df-convert {\n",
              "      background-color: #3B4455;\n",
              "      fill: #D2E3FC;\n",
              "    }\n",
              "\n",
              "    [theme=dark] .colab-df-convert:hover {\n",
              "      background-color: #434B5C;\n",
              "      box-shadow: 0px 1px 3px 1px rgba(0, 0, 0, 0.15);\n",
              "      filter: drop-shadow(0px 1px 2px rgba(0, 0, 0, 0.3));\n",
              "      fill: #FFFFFF;\n",
              "    }\n",
              "  </style>\n",
              "\n",
              "      <script>\n",
              "        const buttonEl =\n",
              "          document.querySelector('#df-a9840249-4afc-42f1-b9da-f6dc98051148 button.colab-df-convert');\n",
              "        buttonEl.style.display =\n",
              "          google.colab.kernel.accessAllowed ? 'block' : 'none';\n",
              "\n",
              "        async function convertToInteractive(key) {\n",
              "          const element = document.querySelector('#df-a9840249-4afc-42f1-b9da-f6dc98051148');\n",
              "          const dataTable =\n",
              "            await google.colab.kernel.invokeFunction('convertToInteractive',\n",
              "                                                     [key], {});\n",
              "          if (!dataTable) return;\n",
              "\n",
              "          const docLinkHtml = 'Like what you see? Visit the ' +\n",
              "            '<a target=\"_blank\" href=https://colab.research.google.com/notebooks/data_table.ipynb>data table notebook</a>'\n",
              "            + ' to learn more about interactive tables.';\n",
              "          element.innerHTML = '';\n",
              "          dataTable['output_type'] = 'display_data';\n",
              "          await google.colab.output.renderOutput(dataTable, element);\n",
              "          const docLink = document.createElement('div');\n",
              "          docLink.innerHTML = docLinkHtml;\n",
              "          element.appendChild(docLink);\n",
              "        }\n",
              "      </script>\n",
              "    </div>\n",
              "  </div>\n",
              "  "
            ]
          },
          "metadata": {},
          "execution_count": 75
        }
      ],
      "source": [
        "models.sort_values(by=\"RMSE Value\")"
      ]
    },
    {
      "cell_type": "markdown",
      "source": [
        "So according to RMSE, we can say that Gradient Boosting is better to predict Cooling Load followed by Random Forest and  Decision Trees."
      ],
      "metadata": {
        "id": "v0uLgVpEv95K"
      },
      "id": "v0uLgVpEv95K"
    }
  ],
  "metadata": {
    "kernelspec": {
      "display_name": "Python 3 (ipykernel)",
      "language": "python",
      "name": "python3"
    },
    "language_info": {
      "codemirror_mode": {
        "name": "ipython",
        "version": 3
      },
      "file_extension": ".py",
      "mimetype": "text/x-python",
      "name": "python",
      "nbconvert_exporter": "python",
      "pygments_lexer": "ipython3",
      "version": "3.9.7"
    },
    "colab": {
      "name": "Group1_S20190010017_S20190010197.ipynb",
      "provenance": []
    }
  },
  "nbformat": 4,
  "nbformat_minor": 5
}